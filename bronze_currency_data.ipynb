{
 "cells": [
  {
   "cell_type": "code",
   "execution_count": 1,
   "metadata": {},
   "outputs": [],
   "source": [
    "from datetime import datetime\n",
    "from google.cloud import bigquery\n",
    "from google.oauth2 import service_account\n",
    "from google.cloud import bigquery\n",
    "from google.cloud.exceptions import NotFound\n",
    "import pandas as pd\n",
    "import yahoo_fin.stock_info as si\n",
    "from utils.utils_bigquery import *\n",
    "from datetime import *"
   ]
  },
  {
   "cell_type": "code",
   "execution_count": 2,
   "metadata": {},
   "outputs": [],
   "source": [
    "key_path = key_path\n",
    "project = project_id\n",
    "dataset = 'bronze'\n",
    "table = 'bronze_currency_data'\n",
    "table_conca = f'{project}.{dataset}.{table}'"
   ]
  },
  {
   "cell_type": "code",
   "execution_count": 3,
   "metadata": {},
   "outputs": [],
   "source": [
    "# Conectamos con Bigquery\n",
    "bigquery = BigQueryUtils(key_path)"
   ]
  },
  {
   "cell_type": "code",
   "execution_count": 4,
   "metadata": {},
   "outputs": [
    {
     "name": "stderr",
     "output_type": "stream",
     "text": [
      "[*********************100%%**********************]  1 of 1 completed\n",
      "[*********************100%%**********************]  1 of 1 completed\n",
      "[*********************100%%**********************]  1 of 1 completed\n",
      "[*********************100%%**********************]  1 of 1 completed\n",
      "[*********************100%%**********************]  1 of 1 completed\n",
      "[*********************100%%**********************]  1 of 1 completed\n",
      "[*********************100%%**********************]  1 of 1 completed\n",
      "[*********************100%%**********************]  1 of 1 completed\n",
      "[*********************100%%**********************]  1 of 1 completed\n",
      "[*********************100%%**********************]  1 of 1 completed"
     ]
    },
    {
     "name": "stdout",
     "output_type": "stream",
     "text": [
      "Datos históricos combinados:\n"
     ]
    },
    {
     "name": "stderr",
     "output_type": "stream",
     "text": [
      "\n"
     ]
    },
    {
     "data": {
      "text/html": [
       "<div>\n",
       "<style scoped>\n",
       "    .dataframe tbody tr th:only-of-type {\n",
       "        vertical-align: middle;\n",
       "    }\n",
       "\n",
       "    .dataframe tbody tr th {\n",
       "        vertical-align: top;\n",
       "    }\n",
       "\n",
       "    .dataframe thead th {\n",
       "        text-align: right;\n",
       "    }\n",
       "</style>\n",
       "<table border=\"1\" class=\"dataframe\">\n",
       "  <thead>\n",
       "    <tr style=\"text-align: right;\">\n",
       "      <th></th>\n",
       "      <th>Date</th>\n",
       "      <th>Open</th>\n",
       "      <th>High</th>\n",
       "      <th>Low</th>\n",
       "      <th>Close</th>\n",
       "      <th>Adj Close</th>\n",
       "      <th>Volume</th>\n",
       "      <th>Currency</th>\n",
       "    </tr>\n",
       "  </thead>\n",
       "  <tbody>\n",
       "    <tr>\n",
       "      <th>0</th>\n",
       "      <td>2015-01-01</td>\n",
       "      <td>1.209863</td>\n",
       "      <td>1.209863</td>\n",
       "      <td>1.209863</td>\n",
       "      <td>1.209863</td>\n",
       "      <td>1.209863</td>\n",
       "      <td>0</td>\n",
       "      <td>Euro (EURUSD)</td>\n",
       "    </tr>\n",
       "    <tr>\n",
       "      <th>1</th>\n",
       "      <td>2015-01-02</td>\n",
       "      <td>1.208868</td>\n",
       "      <td>1.208956</td>\n",
       "      <td>1.201080</td>\n",
       "      <td>1.208941</td>\n",
       "      <td>1.208941</td>\n",
       "      <td>0</td>\n",
       "      <td>Euro (EURUSD)</td>\n",
       "    </tr>\n",
       "    <tr>\n",
       "      <th>2</th>\n",
       "      <td>2015-01-05</td>\n",
       "      <td>1.195500</td>\n",
       "      <td>1.197590</td>\n",
       "      <td>1.188909</td>\n",
       "      <td>1.194643</td>\n",
       "      <td>1.194643</td>\n",
       "      <td>0</td>\n",
       "      <td>Euro (EURUSD)</td>\n",
       "    </tr>\n",
       "    <tr>\n",
       "      <th>3</th>\n",
       "      <td>2015-01-06</td>\n",
       "      <td>1.193830</td>\n",
       "      <td>1.197000</td>\n",
       "      <td>1.188693</td>\n",
       "      <td>1.193902</td>\n",
       "      <td>1.193902</td>\n",
       "      <td>0</td>\n",
       "      <td>Euro (EURUSD)</td>\n",
       "    </tr>\n",
       "    <tr>\n",
       "      <th>4</th>\n",
       "      <td>2015-01-07</td>\n",
       "      <td>1.187479</td>\n",
       "      <td>1.190000</td>\n",
       "      <td>1.180401</td>\n",
       "      <td>1.187536</td>\n",
       "      <td>1.187536</td>\n",
       "      <td>0</td>\n",
       "      <td>Euro (EURUSD)</td>\n",
       "    </tr>\n",
       "  </tbody>\n",
       "</table>\n",
       "</div>"
      ],
      "text/plain": [
       "        Date      Open      High       Low     Close  Adj Close  Volume  \\\n",
       "0 2015-01-01  1.209863  1.209863  1.209863  1.209863   1.209863       0   \n",
       "1 2015-01-02  1.208868  1.208956  1.201080  1.208941   1.208941       0   \n",
       "2 2015-01-05  1.195500  1.197590  1.188909  1.194643   1.194643       0   \n",
       "3 2015-01-06  1.193830  1.197000  1.188693  1.193902   1.193902       0   \n",
       "4 2015-01-07  1.187479  1.190000  1.180401  1.187536   1.187536       0   \n",
       "\n",
       "        Currency  \n",
       "0  Euro (EURUSD)  \n",
       "1  Euro (EURUSD)  \n",
       "2  Euro (EURUSD)  \n",
       "3  Euro (EURUSD)  \n",
       "4  Euro (EURUSD)  "
      ]
     },
     "execution_count": 4,
     "metadata": {},
     "output_type": "execute_result"
    }
   ],
   "source": [
    "import yfinance as yf\n",
    "import pandas as pd\n",
    "from datetime import date\n",
    "\n",
    "\n",
    "# Definir los pares de divisas para las 10 monedas más importantes\n",
    "tickers = {\n",
    "    'Euro (EURUSD)': 'EURUSD=X',\n",
    "    'Yen Japonés (JPYUSD)': 'JPYUSD=X',\n",
    "    'Libra Esterlina (GBPUSD)': 'GBPUSD=X',\n",
    "    'Franco Suizo (USDCHF)': 'USDCHF=X',\n",
    "    'Dólar Canadiense (USDCAD)': 'USDCAD=X',\n",
    "    'Dólar Australiano (AUDUSD)': 'AUDUSD=X',\n",
    "    'Dólar Neozelandés (NZDUSD)': 'NZDUSD=X',\n",
    "    'Dólar de Hong Kong (USDHKD)': 'USDHKD=X',\n",
    "    'Dólar de Singapur (USDSGD)': 'USDSGD=X',\n",
    "    'Rupia India (USDINR)': 'USDINR=X'\n",
    "}\n",
    "\n",
    "# Lista para almacenar los DataFrames individuales\n",
    "df_list = []\n",
    "\n",
    "# Obtener datos históricos para cada ticker\n",
    "for name, ticker in tickers.items():\n",
    "    data = yf.download(ticker, start='2015-01-01', end=date.today())\n",
    "    data['Currency'] = name  # Añadir columna con el nombre de la moneda\n",
    "    data.reset_index(inplace=True)  # Convertir el índice 'date' a una columna\n",
    "    df_list.append(data)\n",
    "\n",
    "# Concatenar todos los DataFrames en uno solo\n",
    "df = pd.concat(df_list)\n",
    "\n",
    "# Imprimir los primeros datos del DataFrame combinado\n",
    "print(\"Datos históricos combinados:\")\n",
    "df.head()\n"
   ]
  },
  {
   "cell_type": "code",
   "execution_count": 5,
   "metadata": {},
   "outputs": [
    {
     "name": "stderr",
     "output_type": "stream",
     "text": [
      "100%|██████████| 1/1 [00:00<?, ?it/s]\n"
     ]
    }
   ],
   "source": [
    "# Guardamos los datos en bigquery\n",
    "bigquery.save_dataframe(df, project, dataset, table, if_exists='replace', schema=None)"
   ]
  }
 ],
 "metadata": {
  "kernelspec": {
   "display_name": "financialkeepcoders",
   "language": "python",
   "name": "python3"
  },
  "language_info": {
   "codemirror_mode": {
    "name": "ipython",
    "version": 3
   },
   "file_extension": ".py",
   "mimetype": "text/x-python",
   "name": "python",
   "nbconvert_exporter": "python",
   "pygments_lexer": "ipython3",
   "version": "3.8.19"
  }
 },
 "nbformat": 4,
 "nbformat_minor": 2
}
