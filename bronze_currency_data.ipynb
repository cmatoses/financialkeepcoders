{
 "cells": [
  {
   "cell_type": "code",
   "execution_count": 1,
   "metadata": {},
   "outputs": [],
   "source": [
    "from datetime import datetime\n",
    "from google.cloud import bigquery\n",
    "from google.oauth2 import service_account\n",
    "from google.cloud import bigquery\n",
    "from google.cloud.exceptions import NotFound\n",
    "import pandas as pd\n",
    "import yahoo_fin.stock_info as si\n",
    "from utils.utils_bigquery import *\n",
    "from datetime import *"
   ]
  },
  {
   "cell_type": "code",
   "execution_count": 2,
   "metadata": {},
   "outputs": [],
   "source": [
    "key_path = key_path\n",
    "project = project_id\n",
    "dataset = 'bronze'\n",
    "table = 'bronze_currency_data'\n",
    "table_conca = f'{project}.{dataset}.{table}'"
   ]
  },
  {
   "cell_type": "code",
   "execution_count": 3,
   "metadata": {},
   "outputs": [],
   "source": [
    "# Conectamos con Bigquery\n",
    "bigquery = BigQueryUtils(key_path)"
   ]
  },
  {
   "cell_type": "code",
   "execution_count": 6,
   "metadata": {},
   "outputs": [
    {
     "name": "stderr",
     "output_type": "stream",
     "text": [
      "[*********************100%%**********************]  1 of 1 completed"
     ]
    },
    {
     "name": "stderr",
     "output_type": "stream",
     "text": [
      "\n",
      "[*********************100%%**********************]  1 of 1 completed\n",
      "[*********************100%%**********************]  1 of 1 completed\n",
      "[*********************100%%**********************]  1 of 1 completed\n",
      "[*********************100%%**********************]  1 of 1 completed"
     ]
    },
    {
     "name": "stdout",
     "output_type": "stream",
     "text": [
      "Datos históricos combinados:\n"
     ]
    },
    {
     "name": "stderr",
     "output_type": "stream",
     "text": [
      "\n"
     ]
    },
    {
     "data": {
      "text/html": [
       "<div>\n",
       "<style scoped>\n",
       "    .dataframe tbody tr th:only-of-type {\n",
       "        vertical-align: middle;\n",
       "    }\n",
       "\n",
       "    .dataframe tbody tr th {\n",
       "        vertical-align: top;\n",
       "    }\n",
       "\n",
       "    .dataframe thead th {\n",
       "        text-align: right;\n",
       "    }\n",
       "</style>\n",
       "<table border=\"1\" class=\"dataframe\">\n",
       "  <thead>\n",
       "    <tr style=\"text-align: right;\">\n",
       "      <th></th>\n",
       "      <th>Date</th>\n",
       "      <th>Open</th>\n",
       "      <th>High</th>\n",
       "      <th>Low</th>\n",
       "      <th>Close</th>\n",
       "      <th>Adj Close</th>\n",
       "      <th>Volume</th>\n",
       "      <th>Currency</th>\n",
       "    </tr>\n",
       "  </thead>\n",
       "  <tbody>\n",
       "    <tr>\n",
       "      <th>0</th>\n",
       "      <td>2015-01-01</td>\n",
       "      <td>0.82654</td>\n",
       "      <td>0.826540</td>\n",
       "      <td>0.826540</td>\n",
       "      <td>0.82654</td>\n",
       "      <td>0.82654</td>\n",
       "      <td>0</td>\n",
       "      <td>USDEUR</td>\n",
       "    </tr>\n",
       "    <tr>\n",
       "      <th>1</th>\n",
       "      <td>2015-01-02</td>\n",
       "      <td>0.82722</td>\n",
       "      <td>0.832584</td>\n",
       "      <td>0.827160</td>\n",
       "      <td>0.82717</td>\n",
       "      <td>0.82717</td>\n",
       "      <td>0</td>\n",
       "      <td>USDEUR</td>\n",
       "    </tr>\n",
       "    <tr>\n",
       "      <th>2</th>\n",
       "      <td>2015-01-05</td>\n",
       "      <td>0.83647</td>\n",
       "      <td>0.841107</td>\n",
       "      <td>0.835010</td>\n",
       "      <td>0.83707</td>\n",
       "      <td>0.83707</td>\n",
       "      <td>0</td>\n",
       "      <td>USDEUR</td>\n",
       "    </tr>\n",
       "    <tr>\n",
       "      <th>3</th>\n",
       "      <td>2015-01-06</td>\n",
       "      <td>0.83764</td>\n",
       "      <td>0.841260</td>\n",
       "      <td>0.835422</td>\n",
       "      <td>0.83759</td>\n",
       "      <td>0.83759</td>\n",
       "      <td>0</td>\n",
       "      <td>USDEUR</td>\n",
       "    </tr>\n",
       "    <tr>\n",
       "      <th>4</th>\n",
       "      <td>2015-01-07</td>\n",
       "      <td>0.84212</td>\n",
       "      <td>0.847170</td>\n",
       "      <td>0.840336</td>\n",
       "      <td>0.84208</td>\n",
       "      <td>0.84208</td>\n",
       "      <td>0</td>\n",
       "      <td>USDEUR</td>\n",
       "    </tr>\n",
       "  </tbody>\n",
       "</table>\n",
       "</div>"
      ],
      "text/plain": [
       "        Date     Open      High       Low    Close  Adj Close  Volume Currency\n",
       "0 2015-01-01  0.82654  0.826540  0.826540  0.82654    0.82654       0   USDEUR\n",
       "1 2015-01-02  0.82722  0.832584  0.827160  0.82717    0.82717       0   USDEUR\n",
       "2 2015-01-05  0.83647  0.841107  0.835010  0.83707    0.83707       0   USDEUR\n",
       "3 2015-01-06  0.83764  0.841260  0.835422  0.83759    0.83759       0   USDEUR\n",
       "4 2015-01-07  0.84212  0.847170  0.840336  0.84208    0.84208       0   USDEUR"
      ]
     },
     "execution_count": 6,
     "metadata": {},
     "output_type": "execute_result"
    }
   ],
   "source": [
    "import yfinance as yf\n",
    "import pandas as pd\n",
    "from datetime import date\n",
    "\n",
    "\n",
    "# Definir los pares de divisas para las 10 monedas más importantes\n",
    "tickers = {\n",
    "    'USDEUR': 'USDEUR=X',\n",
    "    'USDJPY': 'USDJPY=X',\n",
    "    'USDGBP': 'USDGBP=X',\n",
    "    'USDCHF': 'USDCHF=X',\n",
    "    'USDCNY': 'USDCNY=X'\n",
    "}\n",
    "\n",
    "# Lista para almacenar los DataFrames individuales\n",
    "df_list = []\n",
    "\n",
    "# Obtener datos históricos para cada ticker\n",
    "for name, ticker in tickers.items():\n",
    "    data = yf.download(ticker, start='2015-01-01', end=date.today())\n",
    "    data['Currency'] = name  # Añadir columna con el nombre de la moneda\n",
    "    data.reset_index(inplace=True)  # Convertir el índice 'date' a una columna\n",
    "    df_list.append(data)\n",
    "\n",
    "# Concatenar todos los DataFrames en uno solo\n",
    "df = pd.concat(df_list)\n",
    "\n",
    "# Imprimir los primeros datos del DataFrame combinado\n",
    "print(\"Datos históricos combinados:\")\n",
    "df.head()\n"
   ]
  },
  {
   "cell_type": "code",
   "execution_count": 7,
   "metadata": {},
   "outputs": [
    {
     "name": "stderr",
     "output_type": "stream",
     "text": [
      "100%|██████████| 1/1 [00:00<?, ?it/s]\n"
     ]
    }
   ],
   "source": [
    "# Guardamos los datos en bigquery\n",
    "bigquery.save_dataframe(df, project, dataset, table, if_exists='replace', schema=None)"
   ]
  }
 ],
 "metadata": {
  "kernelspec": {
   "display_name": "financialkeepcoders",
   "language": "python",
   "name": "python3"
  },
  "language_info": {
   "codemirror_mode": {
    "name": "ipython",
    "version": 3
   },
   "file_extension": ".py",
   "mimetype": "text/x-python",
   "name": "python",
   "nbconvert_exporter": "python",
   "pygments_lexer": "ipython3",
   "version": "3.8.19"
  }
 },
 "nbformat": 4,
 "nbformat_minor": 2
}
