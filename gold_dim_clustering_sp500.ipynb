{
  "cells": [
    {
      "cell_type": "code",
      "execution_count": 1,
      "metadata": {
        "id": "h4yY3TrT01Vc"
      },
      "outputs": [],
      "source": [
        "from google.cloud import bigquery\n",
        "from google.oauth2 import service_account\n",
        "from google.cloud import bigquery\n",
        "from google.cloud.exceptions import NotFound\n",
        "import pandas as pd\n",
        "from utils.utils_bigquery import *\n",
        "from datetime import *"
      ]
    },
    {
      "cell_type": "code",
      "execution_count": 2,
      "metadata": {
        "id": "U6HA5BC801Vd"
      },
      "outputs": [],
      "source": [
        "import numpy as np\n",
        "import matplotlib.pyplot as plt\n",
        "import seaborn as sns\n",
        "import pandas as pd\n",
        "\n",
        "from sklearn.cluster import KMeans\n",
        "import scipy.cluster.hierarchy as sch\n",
        "from sklearn.cluster import AgglomerativeClustering\n",
        "from sklearn.cluster import DBSCAN\n",
        "from sklearn.preprocessing import StandardScaler\n",
        "from sklearn.cluster import Birch\n",
        "from sklearn.cluster import MeanShift\n",
        "from sklearn.mixture import GaussianMixture\n",
        "from sklearn.cluster import AffinityPropagation\n",
        "from sklearn.cluster import OPTICS"
      ]
    },
    {
      "cell_type": "code",
      "execution_count": 3,
      "metadata": {
        "id": "aV6RMWoJ01Ve"
      },
      "outputs": [],
      "source": [
        "# Define the key path for authentication and the project ID for BigQuery\n",
        "key_path = key_path  \n",
        "project = project_id  \n",
        "\n",
        "# Define the source table and dataset\n",
        "table = 'gold_main_sp500' \n",
        "dataset = 'gold'  \n",
        "table_conca = f'{project}.{dataset}.{table}'  \n",
        "\n",
        "# Define the target table and dataset for saving results\n",
        "table_to_save = 'gold_clustering_sp500'  \n",
        "dataset_to_save = 'gold'  \n",
        "table_conca_to_save = f'{project}.{dataset_to_save}.{table_to_save}'  \n"
      ]
    },
    {
      "cell_type": "code",
      "execution_count": 4,
      "metadata": {
        "id": "3daFWD3f01Ve"
      },
      "outputs": [],
      "source": [
        "# Connect to BigQuery using the BigQueryUtils class\n",
        "bigquery = BigQueryUtils(key_path)"
      ]
    },
    {
      "cell_type": "code",
      "execution_count": 5,
      "metadata": {
        "colab": {
          "base_uri": "https://localhost:8080/",
          "height": 424
        },
        "id": "Vpy3O4rK01Ve",
        "outputId": "0c42eadc-c0ee-42db-ca19-8ce34f7bde3f"
      },
      "outputs": [
        {
          "data": {
            "text/html": [
              "<div>\n",
              "<style scoped>\n",
              "    .dataframe tbody tr th:only-of-type {\n",
              "        vertical-align: middle;\n",
              "    }\n",
              "\n",
              "    .dataframe tbody tr th {\n",
              "        vertical-align: top;\n",
              "    }\n",
              "\n",
              "    .dataframe thead th {\n",
              "        text-align: right;\n",
              "    }\n",
              "</style>\n",
              "<table border=\"1\" class=\"dataframe\">\n",
              "  <thead>\n",
              "    <tr style=\"text-align: right;\">\n",
              "      <th></th>\n",
              "      <th>date</th>\n",
              "      <th>ticker</th>\n",
              "      <th>adjclose</th>\n",
              "    </tr>\n",
              "  </thead>\n",
              "  <tbody>\n",
              "    <tr>\n",
              "      <th>0</th>\n",
              "      <td>2018-07-24 00:00:00+00:00</td>\n",
              "      <td>VTRS</td>\n",
              "      <td>36.033947</td>\n",
              "    </tr>\n",
              "    <tr>\n",
              "      <th>1</th>\n",
              "      <td>2018-07-24 00:00:00+00:00</td>\n",
              "      <td>GLW</td>\n",
              "      <td>27.003014</td>\n",
              "    </tr>\n",
              "    <tr>\n",
              "      <th>2</th>\n",
              "      <td>2018-07-24 00:00:00+00:00</td>\n",
              "      <td>VMC</td>\n",
              "      <td>117.070572</td>\n",
              "    </tr>\n",
              "    <tr>\n",
              "      <th>3</th>\n",
              "      <td>2018-07-24 00:00:00+00:00</td>\n",
              "      <td>COST</td>\n",
              "      <td>206.898041</td>\n",
              "    </tr>\n",
              "    <tr>\n",
              "      <th>4</th>\n",
              "      <td>2018-07-24 00:00:00+00:00</td>\n",
              "      <td>DVA</td>\n",
              "      <td>70.070000</td>\n",
              "    </tr>\n",
              "    <tr>\n",
              "      <th>...</th>\n",
              "      <td>...</td>\n",
              "      <td>...</td>\n",
              "      <td>...</td>\n",
              "    </tr>\n",
              "    <tr>\n",
              "      <th>1179574</th>\n",
              "      <td>2024-03-15 00:00:00+00:00</td>\n",
              "      <td>XOM</td>\n",
              "      <td>111.269997</td>\n",
              "    </tr>\n",
              "    <tr>\n",
              "      <th>1179575</th>\n",
              "      <td>2024-03-07 00:00:00+00:00</td>\n",
              "      <td>CPB</td>\n",
              "      <td>42.070000</td>\n",
              "    </tr>\n",
              "    <tr>\n",
              "      <th>1179576</th>\n",
              "      <td>2024-03-07 00:00:00+00:00</td>\n",
              "      <td>JCI</td>\n",
              "      <td>61.320000</td>\n",
              "    </tr>\n",
              "    <tr>\n",
              "      <th>1179577</th>\n",
              "      <td>2024-03-07 00:00:00+00:00</td>\n",
              "      <td>SHW</td>\n",
              "      <td>344.660004</td>\n",
              "    </tr>\n",
              "    <tr>\n",
              "      <th>1179578</th>\n",
              "      <td>2024-03-07 00:00:00+00:00</td>\n",
              "      <td>LVS</td>\n",
              "      <td>51.490002</td>\n",
              "    </tr>\n",
              "  </tbody>\n",
              "</table>\n",
              "<p>1179579 rows × 3 columns</p>\n",
              "</div>"
            ],
            "text/plain": [
              "                             date ticker    adjclose\n",
              "0       2018-07-24 00:00:00+00:00   VTRS   36.033947\n",
              "1       2018-07-24 00:00:00+00:00    GLW   27.003014\n",
              "2       2018-07-24 00:00:00+00:00    VMC  117.070572\n",
              "3       2018-07-24 00:00:00+00:00   COST  206.898041\n",
              "4       2018-07-24 00:00:00+00:00    DVA   70.070000\n",
              "...                           ...    ...         ...\n",
              "1179574 2024-03-15 00:00:00+00:00    XOM  111.269997\n",
              "1179575 2024-03-07 00:00:00+00:00    CPB   42.070000\n",
              "1179576 2024-03-07 00:00:00+00:00    JCI   61.320000\n",
              "1179577 2024-03-07 00:00:00+00:00    SHW  344.660004\n",
              "1179578 2024-03-07 00:00:00+00:00    LVS   51.490002\n",
              "\n",
              "[1179579 rows x 3 columns]"
            ]
          },
          "execution_count": 5,
          "metadata": {},
          "output_type": "execute_result"
        }
      ],
      "source": [
        "# Run a SQL query to retrieve the historical values for each ticker\n",
        "\n",
        "df = bigquery.run_query(\n",
        "    f\"\"\"\n",
        "        SELECT\n",
        "            ti.date,\n",
        "            ti.ticker,\n",
        "            ti.adjclose\n",
        "        FROM {table_conca} AS ti\n",
        "        INNER JOIN `bronze.bronze_sp500_tickers` AS sp\n",
        "            ON sp.ticker = ti.ticker\n",
        "    \"\"\"\n",
        ")\n",
        "df"
      ]
    },
    {
      "cell_type": "code",
      "execution_count": 6,
      "metadata": {
        "colab": {
          "base_uri": "https://localhost:8080/",
          "height": 649
        },
        "id": "zBeuRzQj01Vf",
        "outputId": "f81e4e54-7d96-447c-b720-6aa772f4b95d"
      },
      "outputs": [
        {
          "data": {
            "text/html": [
              "<div>\n",
              "<style scoped>\n",
              "    .dataframe tbody tr th:only-of-type {\n",
              "        vertical-align: middle;\n",
              "    }\n",
              "\n",
              "    .dataframe tbody tr th {\n",
              "        vertical-align: top;\n",
              "    }\n",
              "\n",
              "    .dataframe thead th {\n",
              "        text-align: right;\n",
              "    }\n",
              "</style>\n",
              "<table border=\"1\" class=\"dataframe\">\n",
              "  <thead>\n",
              "    <tr style=\"text-align: right;\">\n",
              "      <th>ticker</th>\n",
              "      <th>A</th>\n",
              "      <th>AAL</th>\n",
              "      <th>AAPL</th>\n",
              "      <th>ABBV</th>\n",
              "      <th>ABT</th>\n",
              "      <th>ACGL</th>\n",
              "      <th>ACN</th>\n",
              "      <th>ADBE</th>\n",
              "      <th>ADI</th>\n",
              "      <th>ADM</th>\n",
              "      <th>...</th>\n",
              "      <th>WY</th>\n",
              "      <th>WYNN</th>\n",
              "      <th>XEL</th>\n",
              "      <th>XOM</th>\n",
              "      <th>XYL</th>\n",
              "      <th>YUM</th>\n",
              "      <th>ZBH</th>\n",
              "      <th>ZBRA</th>\n",
              "      <th>ZTS</th>\n",
              "      <th>date</th>\n",
              "    </tr>\n",
              "    <tr>\n",
              "      <th>date</th>\n",
              "      <th></th>\n",
              "      <th></th>\n",
              "      <th></th>\n",
              "      <th></th>\n",
              "      <th></th>\n",
              "      <th></th>\n",
              "      <th></th>\n",
              "      <th></th>\n",
              "      <th></th>\n",
              "      <th></th>\n",
              "      <th></th>\n",
              "      <th></th>\n",
              "      <th></th>\n",
              "      <th></th>\n",
              "      <th></th>\n",
              "      <th></th>\n",
              "      <th></th>\n",
              "      <th></th>\n",
              "      <th></th>\n",
              "      <th></th>\n",
              "      <th></th>\n",
              "    </tr>\n",
              "  </thead>\n",
              "  <tbody>\n",
              "    <tr>\n",
              "      <th>2015-01-02 00:00:00+00:00</th>\n",
              "      <td>38.134743</td>\n",
              "      <td>51.079918</td>\n",
              "      <td>24.819241</td>\n",
              "      <td>47.606876</td>\n",
              "      <td>39.116329</td>\n",
              "      <td>19.496668</td>\n",
              "      <td>77.739143</td>\n",
              "      <td>72.339996</td>\n",
              "      <td>47.992855</td>\n",
              "      <td>42.047760</td>\n",
              "      <td>...</td>\n",
              "      <td>26.735615</td>\n",
              "      <td>129.636993</td>\n",
              "      <td>29.513472</td>\n",
              "      <td>66.025864</td>\n",
              "      <td>34.689079</td>\n",
              "      <td>45.366924</td>\n",
              "      <td>103.273209</td>\n",
              "      <td>77.430000</td>\n",
              "      <td>41.283794</td>\n",
              "      <td>NaT</td>\n",
              "    </tr>\n",
              "    <tr>\n",
              "      <th>2015-01-05 00:00:00+00:00</th>\n",
              "      <td>37.420185</td>\n",
              "      <td>51.051483</td>\n",
              "      <td>24.120045</td>\n",
              "      <td>46.710945</td>\n",
              "      <td>39.125034</td>\n",
              "      <td>19.379999</td>\n",
              "      <td>76.426567</td>\n",
              "      <td>71.980003</td>\n",
              "      <td>47.120094</td>\n",
              "      <td>40.592819</td>\n",
              "      <td>...</td>\n",
              "      <td>26.735615</td>\n",
              "      <td>127.430626</td>\n",
              "      <td>29.178459</td>\n",
              "      <td>64.219269</td>\n",
              "      <td>32.530121</td>\n",
              "      <td>44.445164</td>\n",
              "      <td>107.125671</td>\n",
              "      <td>76.339996</td>\n",
              "      <td>41.035954</td>\n",
              "      <td>NaT</td>\n",
              "    </tr>\n",
              "    <tr>\n",
              "      <th>2015-01-06 00:00:00+00:00</th>\n",
              "      <td>36.837265</td>\n",
              "      <td>50.255585</td>\n",
              "      <td>24.122320</td>\n",
              "      <td>46.479752</td>\n",
              "      <td>38.680729</td>\n",
              "      <td>19.423332</td>\n",
              "      <td>75.875282</td>\n",
              "      <td>70.529999</td>\n",
              "      <td>46.014027</td>\n",
              "      <td>39.792606</td>\n",
              "      <td>...</td>\n",
              "      <td>26.705992</td>\n",
              "      <td>124.712402</td>\n",
              "      <td>29.333715</td>\n",
              "      <td>63.877869</td>\n",
              "      <td>32.338821</td>\n",
              "      <td>43.899632</td>\n",
              "      <td>106.217575</td>\n",
              "      <td>75.790001</td>\n",
              "      <td>40.635601</td>\n",
              "      <td>NaT</td>\n",
              "    </tr>\n",
              "    <tr>\n",
              "      <th>2015-01-07 00:00:00+00:00</th>\n",
              "      <td>37.326168</td>\n",
              "      <td>50.227158</td>\n",
              "      <td>24.460564</td>\n",
              "      <td>48.358299</td>\n",
              "      <td>38.994354</td>\n",
              "      <td>19.536667</td>\n",
              "      <td>77.467850</td>\n",
              "      <td>71.110001</td>\n",
              "      <td>46.497940</td>\n",
              "      <td>40.390751</td>\n",
              "      <td>...</td>\n",
              "      <td>26.787432</td>\n",
              "      <td>128.374954</td>\n",
              "      <td>29.587006</td>\n",
              "      <td>64.525108</td>\n",
              "      <td>32.593887</td>\n",
              "      <td>45.354382</td>\n",
              "      <td>108.859299</td>\n",
              "      <td>77.720001</td>\n",
              "      <td>41.474419</td>\n",
              "      <td>NaT</td>\n",
              "    </tr>\n",
              "    <tr>\n",
              "      <th>2015-01-08 00:00:00+00:00</th>\n",
              "      <td>38.445004</td>\n",
              "      <td>50.843037</td>\n",
              "      <td>25.400398</td>\n",
              "      <td>48.864059</td>\n",
              "      <td>39.795853</td>\n",
              "      <td>19.876667</td>\n",
              "      <td>78.649185</td>\n",
              "      <td>72.919998</td>\n",
              "      <td>47.318844</td>\n",
              "      <td>39.800697</td>\n",
              "      <td>...</td>\n",
              "      <td>27.076199</td>\n",
              "      <td>129.919449</td>\n",
              "      <td>29.930189</td>\n",
              "      <td>65.599113</td>\n",
              "      <td>32.839859</td>\n",
              "      <td>46.144466</td>\n",
              "      <td>110.015007</td>\n",
              "      <td>79.379997</td>\n",
              "      <td>42.113091</td>\n",
              "      <td>NaT</td>\n",
              "    </tr>\n",
              "    <tr>\n",
              "      <th>...</th>\n",
              "      <td>...</td>\n",
              "      <td>...</td>\n",
              "      <td>...</td>\n",
              "      <td>...</td>\n",
              "      <td>...</td>\n",
              "      <td>...</td>\n",
              "      <td>...</td>\n",
              "      <td>...</td>\n",
              "      <td>...</td>\n",
              "      <td>...</td>\n",
              "      <td>...</td>\n",
              "      <td>...</td>\n",
              "      <td>...</td>\n",
              "      <td>...</td>\n",
              "      <td>...</td>\n",
              "      <td>...</td>\n",
              "      <td>...</td>\n",
              "      <td>...</td>\n",
              "      <td>...</td>\n",
              "      <td>...</td>\n",
              "      <td>...</td>\n",
              "    </tr>\n",
              "    <tr>\n",
              "      <th>2024-08-12 00:00:00+00:00</th>\n",
              "      <td>135.600006</td>\n",
              "      <td>9.610000</td>\n",
              "      <td>217.529999</td>\n",
              "      <td>190.179993</td>\n",
              "      <td>107.800003</td>\n",
              "      <td>97.970001</td>\n",
              "      <td>313.959991</td>\n",
              "      <td>530.929993</td>\n",
              "      <td>212.080002</td>\n",
              "      <td>58.070000</td>\n",
              "      <td>...</td>\n",
              "      <td>30.139999</td>\n",
              "      <td>73.930000</td>\n",
              "      <td>58.020000</td>\n",
              "      <td>119.000000</td>\n",
              "      <td>127.500000</td>\n",
              "      <td>135.630005</td>\n",
              "      <td>107.000000</td>\n",
              "      <td>320.339996</td>\n",
              "      <td>183.809998</td>\n",
              "      <td>NaT</td>\n",
              "    </tr>\n",
              "    <tr>\n",
              "      <th>2024-08-13 00:00:00+00:00</th>\n",
              "      <td>137.419998</td>\n",
              "      <td>9.810000</td>\n",
              "      <td>221.270004</td>\n",
              "      <td>191.229996</td>\n",
              "      <td>108.239998</td>\n",
              "      <td>97.730003</td>\n",
              "      <td>319.329987</td>\n",
              "      <td>535.219971</td>\n",
              "      <td>218.009995</td>\n",
              "      <td>58.380001</td>\n",
              "      <td>...</td>\n",
              "      <td>30.330000</td>\n",
              "      <td>74.199997</td>\n",
              "      <td>59.660000</td>\n",
              "      <td>117.860001</td>\n",
              "      <td>131.710007</td>\n",
              "      <td>137.589996</td>\n",
              "      <td>109.309998</td>\n",
              "      <td>332.119995</td>\n",
              "      <td>188.380005</td>\n",
              "      <td>NaT</td>\n",
              "    </tr>\n",
              "    <tr>\n",
              "      <th>2024-08-14 00:00:00+00:00</th>\n",
              "      <td>136.029999</td>\n",
              "      <td>9.740000</td>\n",
              "      <td>221.720001</td>\n",
              "      <td>193.000000</td>\n",
              "      <td>109.889999</td>\n",
              "      <td>100.900002</td>\n",
              "      <td>319.829987</td>\n",
              "      <td>539.789978</td>\n",
              "      <td>215.320007</td>\n",
              "      <td>58.380001</td>\n",
              "      <td>...</td>\n",
              "      <td>30.020000</td>\n",
              "      <td>74.040001</td>\n",
              "      <td>58.959999</td>\n",
              "      <td>118.949997</td>\n",
              "      <td>131.490005</td>\n",
              "      <td>137.259995</td>\n",
              "      <td>108.629997</td>\n",
              "      <td>333.239990</td>\n",
              "      <td>183.380005</td>\n",
              "      <td>NaT</td>\n",
              "    </tr>\n",
              "    <tr>\n",
              "      <th>2024-08-15 00:00:00+00:00</th>\n",
              "      <td>139.889999</td>\n",
              "      <td>10.090000</td>\n",
              "      <td>224.720001</td>\n",
              "      <td>193.399994</td>\n",
              "      <td>110.940002</td>\n",
              "      <td>101.650002</td>\n",
              "      <td>325.130005</td>\n",
              "      <td>554.159973</td>\n",
              "      <td>223.669998</td>\n",
              "      <td>58.860001</td>\n",
              "      <td>...</td>\n",
              "      <td>30.090000</td>\n",
              "      <td>76.139999</td>\n",
              "      <td>58.900002</td>\n",
              "      <td>118.730003</td>\n",
              "      <td>133.190002</td>\n",
              "      <td>137.809998</td>\n",
              "      <td>109.900002</td>\n",
              "      <td>343.209991</td>\n",
              "      <td>184.080002</td>\n",
              "      <td>NaT</td>\n",
              "    </tr>\n",
              "    <tr>\n",
              "      <th>2024-08-16 00:00:00+00:00</th>\n",
              "      <td>140.039993</td>\n",
              "      <td>10.050000</td>\n",
              "      <td>226.050003</td>\n",
              "      <td>193.899994</td>\n",
              "      <td>111.000000</td>\n",
              "      <td>102.550003</td>\n",
              "      <td>326.920013</td>\n",
              "      <td>553.460022</td>\n",
              "      <td>223.190002</td>\n",
              "      <td>59.090000</td>\n",
              "      <td>...</td>\n",
              "      <td>29.910000</td>\n",
              "      <td>76.290001</td>\n",
              "      <td>59.980000</td>\n",
              "      <td>118.169998</td>\n",
              "      <td>132.800003</td>\n",
              "      <td>137.399994</td>\n",
              "      <td>110.650002</td>\n",
              "      <td>344.140015</td>\n",
              "      <td>183.710007</td>\n",
              "      <td>NaT</td>\n",
              "    </tr>\n",
              "  </tbody>\n",
              "</table>\n",
              "<p>2418 rows × 494 columns</p>\n",
              "</div>"
            ],
            "text/plain": [
              "ticker                              A        AAL        AAPL        ABBV  \\\n",
              "date                                                                       \n",
              "2015-01-02 00:00:00+00:00   38.134743  51.079918   24.819241   47.606876   \n",
              "2015-01-05 00:00:00+00:00   37.420185  51.051483   24.120045   46.710945   \n",
              "2015-01-06 00:00:00+00:00   36.837265  50.255585   24.122320   46.479752   \n",
              "2015-01-07 00:00:00+00:00   37.326168  50.227158   24.460564   48.358299   \n",
              "2015-01-08 00:00:00+00:00   38.445004  50.843037   25.400398   48.864059   \n",
              "...                               ...        ...         ...         ...   \n",
              "2024-08-12 00:00:00+00:00  135.600006   9.610000  217.529999  190.179993   \n",
              "2024-08-13 00:00:00+00:00  137.419998   9.810000  221.270004  191.229996   \n",
              "2024-08-14 00:00:00+00:00  136.029999   9.740000  221.720001  193.000000   \n",
              "2024-08-15 00:00:00+00:00  139.889999  10.090000  224.720001  193.399994   \n",
              "2024-08-16 00:00:00+00:00  140.039993  10.050000  226.050003  193.899994   \n",
              "\n",
              "ticker                            ABT        ACGL         ACN        ADBE  \\\n",
              "date                                                                        \n",
              "2015-01-02 00:00:00+00:00   39.116329   19.496668   77.739143   72.339996   \n",
              "2015-01-05 00:00:00+00:00   39.125034   19.379999   76.426567   71.980003   \n",
              "2015-01-06 00:00:00+00:00   38.680729   19.423332   75.875282   70.529999   \n",
              "2015-01-07 00:00:00+00:00   38.994354   19.536667   77.467850   71.110001   \n",
              "2015-01-08 00:00:00+00:00   39.795853   19.876667   78.649185   72.919998   \n",
              "...                               ...         ...         ...         ...   \n",
              "2024-08-12 00:00:00+00:00  107.800003   97.970001  313.959991  530.929993   \n",
              "2024-08-13 00:00:00+00:00  108.239998   97.730003  319.329987  535.219971   \n",
              "2024-08-14 00:00:00+00:00  109.889999  100.900002  319.829987  539.789978   \n",
              "2024-08-15 00:00:00+00:00  110.940002  101.650002  325.130005  554.159973   \n",
              "2024-08-16 00:00:00+00:00  111.000000  102.550003  326.920013  553.460022   \n",
              "\n",
              "ticker                            ADI        ADM  ...         WY        WYNN  \\\n",
              "date                                              ...                          \n",
              "2015-01-02 00:00:00+00:00   47.992855  42.047760  ...  26.735615  129.636993   \n",
              "2015-01-05 00:00:00+00:00   47.120094  40.592819  ...  26.735615  127.430626   \n",
              "2015-01-06 00:00:00+00:00   46.014027  39.792606  ...  26.705992  124.712402   \n",
              "2015-01-07 00:00:00+00:00   46.497940  40.390751  ...  26.787432  128.374954   \n",
              "2015-01-08 00:00:00+00:00   47.318844  39.800697  ...  27.076199  129.919449   \n",
              "...                               ...        ...  ...        ...         ...   \n",
              "2024-08-12 00:00:00+00:00  212.080002  58.070000  ...  30.139999   73.930000   \n",
              "2024-08-13 00:00:00+00:00  218.009995  58.380001  ...  30.330000   74.199997   \n",
              "2024-08-14 00:00:00+00:00  215.320007  58.380001  ...  30.020000   74.040001   \n",
              "2024-08-15 00:00:00+00:00  223.669998  58.860001  ...  30.090000   76.139999   \n",
              "2024-08-16 00:00:00+00:00  223.190002  59.090000  ...  29.910000   76.290001   \n",
              "\n",
              "ticker                           XEL         XOM         XYL         YUM  \\\n",
              "date                                                                       \n",
              "2015-01-02 00:00:00+00:00  29.513472   66.025864   34.689079   45.366924   \n",
              "2015-01-05 00:00:00+00:00  29.178459   64.219269   32.530121   44.445164   \n",
              "2015-01-06 00:00:00+00:00  29.333715   63.877869   32.338821   43.899632   \n",
              "2015-01-07 00:00:00+00:00  29.587006   64.525108   32.593887   45.354382   \n",
              "2015-01-08 00:00:00+00:00  29.930189   65.599113   32.839859   46.144466   \n",
              "...                              ...         ...         ...         ...   \n",
              "2024-08-12 00:00:00+00:00  58.020000  119.000000  127.500000  135.630005   \n",
              "2024-08-13 00:00:00+00:00  59.660000  117.860001  131.710007  137.589996   \n",
              "2024-08-14 00:00:00+00:00  58.959999  118.949997  131.490005  137.259995   \n",
              "2024-08-15 00:00:00+00:00  58.900002  118.730003  133.190002  137.809998   \n",
              "2024-08-16 00:00:00+00:00  59.980000  118.169998  132.800003  137.399994   \n",
              "\n",
              "ticker                            ZBH        ZBRA         ZTS  date  \n",
              "date                                                                 \n",
              "2015-01-02 00:00:00+00:00  103.273209   77.430000   41.283794   NaT  \n",
              "2015-01-05 00:00:00+00:00  107.125671   76.339996   41.035954   NaT  \n",
              "2015-01-06 00:00:00+00:00  106.217575   75.790001   40.635601   NaT  \n",
              "2015-01-07 00:00:00+00:00  108.859299   77.720001   41.474419   NaT  \n",
              "2015-01-08 00:00:00+00:00  110.015007   79.379997   42.113091   NaT  \n",
              "...                               ...         ...         ...   ...  \n",
              "2024-08-12 00:00:00+00:00  107.000000  320.339996  183.809998   NaT  \n",
              "2024-08-13 00:00:00+00:00  109.309998  332.119995  188.380005   NaT  \n",
              "2024-08-14 00:00:00+00:00  108.629997  333.239990  183.380005   NaT  \n",
              "2024-08-15 00:00:00+00:00  109.900002  343.209991  184.080002   NaT  \n",
              "2024-08-16 00:00:00+00:00  110.650002  344.140015  183.710007   NaT  \n",
              "\n",
              "[2418 rows x 494 columns]"
            ]
          },
          "execution_count": 6,
          "metadata": {},
          "output_type": "execute_result"
        }
      ],
      "source": [
        "# Convert the 'date' column to datetime format\n",
        "df['date'] = pd.to_datetime(df['date'])\n",
        "\n",
        "# Pivot the DataFrame to have dates as the index and tickers as columns\n",
        "df_pivoted = df.pivot(index='date', columns='ticker', values='adjclose')\n",
        "\n",
        "# Display the pivoted DataFrame\n",
        "df_pivoted\n"
      ]
    },
    {
      "cell_type": "code",
      "execution_count": 7,
      "metadata": {
        "colab": {
          "base_uri": "https://localhost:8080/"
        },
        "id": "AoqXz-bb01Vf",
        "outputId": "a2422e05-388a-4c01-d182-294ea73376cc"
      },
      "outputs": [
        {
          "name": "stdout",
          "output_type": "stream",
          "text": [
            "(493, 910, 1)\n"
          ]
        }
      ],
      "source": [
        "from tslearn.preprocessing import TimeSeriesScalerMeanVariance\n",
        "\n",
        "# Filter data from 2021 onwards\n",
        "close_prices = df_pivoted.loc[\"2021\":]\n",
        "\n",
        "# Remove columns with NaN values\n",
        "close_prices = close_prices.dropna(axis=1)\n",
        "\n",
        "# Transform the data using TimeSeriesScalerMeanVariance (normalize the time series values)\n",
        "X_train = TimeSeriesScalerMeanVariance().fit_transform(close_prices.T)\n",
        "\n",
        "# Print the shape of the transformed data\n",
        "print(X_train.shape)"
      ]
    },
    {
      "cell_type": "code",
      "execution_count": 34,
      "metadata": {
        "colab": {
          "base_uri": "https://localhost:8080/"
        },
        "id": "70eTs7_k01Vf",
        "outputId": "7dc1d69f-e7c5-4823-e938-61b28044febb"
      },
      "outputs": [
        {
          "name": "stdout",
          "output_type": "stream",
          "text": [
            "Archivo cargado exitosamente.\n"
          ]
        },
        {
          "name": "stderr",
          "output_type": "stream",
          "text": [
            "  0%|          | 0/2 [00:00<?, ?it/s]"
          ]
        },
        {
          "name": "stdout",
          "output_type": "stream",
          "text": [
            "Init 1\n"
          ]
        },
        {
          "name": "stderr",
          "output_type": "stream",
          "text": [
            "[Parallel(n_jobs=-1)]: Using backend ThreadingBackend with 16 concurrent workers.\n",
            "[Parallel(n_jobs=-1)]: Done  18 tasks      | elapsed:    0.0s\n",
            "[Parallel(n_jobs=-1)]: Done 168 tasks      | elapsed:    0.3s\n",
            "[Parallel(n_jobs=-1)]: Done 418 tasks      | elapsed:    0.8s\n",
            "[Parallel(n_jobs=-1)]: Done 493 out of 493 | elapsed:    0.9s finished\n",
            "[Parallel(n_jobs=-1)]: Using backend ThreadingBackend with 16 concurrent workers.\n",
            "[Parallel(n_jobs=-1)]: Done  18 tasks      | elapsed:    0.0s\n",
            "[Parallel(n_jobs=-1)]: Done 168 tasks      | elapsed:    0.2s\n",
            "[Parallel(n_jobs=-1)]: Done 418 tasks      | elapsed:    0.7s\n",
            "[Parallel(n_jobs=-1)]: Done 768 tasks      | elapsed:    1.3s\n",
            "[Parallel(n_jobs=-1)]: Done 1218 tasks      | elapsed:    2.2s\n",
            "[Parallel(n_jobs=-1)]: Done 1768 tasks      | elapsed:    3.1s\n",
            "[Parallel(n_jobs=-1)]: Done 1972 out of 1972 | elapsed:    3.5s finished\n",
            "[Parallel(n_jobs=-1)]: Using backend ThreadingBackend with 16 concurrent workers.\n",
            "[Parallel(n_jobs=-1)]: Done  18 tasks      | elapsed:    0.0s\n",
            "[Parallel(n_jobs=-1)]: Done 168 tasks      | elapsed:    0.2s\n",
            "[Parallel(n_jobs=-1)]: Done 418 tasks      | elapsed:    0.7s\n",
            "[Parallel(n_jobs=-1)]: Done 768 tasks      | elapsed:    1.3s\n",
            "[Parallel(n_jobs=-1)]: Done 1218 tasks      | elapsed:    2.1s\n",
            "[Parallel(n_jobs=-1)]: Done 1768 tasks      | elapsed:    3.1s\n",
            "[Parallel(n_jobs=-1)]: Done 1972 out of 1972 | elapsed:    3.4s finished\n",
            "[Parallel(n_jobs=-1)]: Using backend ThreadingBackend with 16 concurrent workers.\n",
            "[Parallel(n_jobs=-1)]: Done  18 tasks      | elapsed:    0.0s\n",
            "[Parallel(n_jobs=-1)]: Done 168 tasks      | elapsed:    0.2s\n",
            "[Parallel(n_jobs=-1)]: Done 418 tasks      | elapsed:    0.6s\n",
            "[Parallel(n_jobs=-1)]: Done 768 tasks      | elapsed:    1.3s\n",
            "[Parallel(n_jobs=-1)]: Done 1218 tasks      | elapsed:    2.1s\n",
            "[Parallel(n_jobs=-1)]: Done 1768 tasks      | elapsed:    3.1s\n",
            "[Parallel(n_jobs=-1)]: Done 1972 out of 1972 | elapsed:    3.5s finished\n",
            "[Parallel(n_jobs=-1)]: Using backend ThreadingBackend with 16 concurrent workers.\n",
            "[Parallel(n_jobs=-1)]: Done  18 tasks      | elapsed:    0.0s\n",
            "[Parallel(n_jobs=-1)]: Done 168 tasks      | elapsed:    0.3s\n",
            "[Parallel(n_jobs=-1)]: Done 418 tasks      | elapsed:    0.7s\n",
            "[Parallel(n_jobs=-1)]: Done 768 tasks      | elapsed:    1.4s\n",
            "[Parallel(n_jobs=-1)]: Done 1218 tasks      | elapsed:    2.2s\n",
            "[Parallel(n_jobs=-1)]: Done 1768 tasks      | elapsed:    3.2s\n",
            "[Parallel(n_jobs=-1)]: Done 1972 out of 1972 | elapsed:    3.6s finished\n",
            "[Parallel(n_jobs=-1)]: Using backend ThreadingBackend with 16 concurrent workers.\n",
            "[Parallel(n_jobs=-1)]: Done  18 tasks      | elapsed:    0.0s\n",
            "[Parallel(n_jobs=-1)]: Done 168 tasks      | elapsed:    0.2s\n",
            "[Parallel(n_jobs=-1)]: Done 418 tasks      | elapsed:    0.6s\n",
            "[Parallel(n_jobs=-1)]: Done 768 tasks      | elapsed:    1.3s\n",
            "[Parallel(n_jobs=-1)]: Done 1218 tasks      | elapsed:    2.1s\n",
            "[Parallel(n_jobs=-1)]: Done 1768 tasks      | elapsed:    3.1s\n",
            "[Parallel(n_jobs=-1)]: Done 1972 out of 1972 | elapsed:    3.5s finished\n",
            "[Parallel(n_jobs=-1)]: Using backend ThreadingBackend with 16 concurrent workers.\n",
            "[Parallel(n_jobs=-1)]: Done  18 tasks      | elapsed:    0.0s\n",
            "[Parallel(n_jobs=-1)]: Done 168 tasks      | elapsed:    0.2s\n",
            "[Parallel(n_jobs=-1)]: Done 418 tasks      | elapsed:    0.7s\n",
            "[Parallel(n_jobs=-1)]: Done 768 tasks      | elapsed:    1.3s\n",
            "[Parallel(n_jobs=-1)]: Done 1218 tasks      | elapsed:    2.1s\n",
            "[Parallel(n_jobs=-1)]: Done 1768 tasks      | elapsed:    3.1s\n",
            "[Parallel(n_jobs=-1)]: Done 1972 out of 1972 | elapsed:    3.5s finished\n",
            "[Parallel(n_jobs=-1)]: Using backend ThreadingBackend with 16 concurrent workers.\n",
            "[Parallel(n_jobs=-1)]: Done  18 tasks      | elapsed:    0.0s\n",
            "[Parallel(n_jobs=-1)]: Done 168 tasks      | elapsed:    0.2s\n",
            "[Parallel(n_jobs=-1)]: Done 418 tasks      | elapsed:    0.6s\n",
            "[Parallel(n_jobs=-1)]: Done 768 tasks      | elapsed:    1.2s\n",
            "[Parallel(n_jobs=-1)]: Done 1218 tasks      | elapsed:    2.2s\n",
            "[Parallel(n_jobs=-1)]: Done 1768 tasks      | elapsed:    3.3s\n",
            "[Parallel(n_jobs=-1)]: Done 1972 out of 1972 | elapsed:    3.8s finished\n",
            "[Parallel(n_jobs=-1)]: Using backend ThreadingBackend with 16 concurrent workers.\n",
            "[Parallel(n_jobs=-1)]: Done  18 tasks      | elapsed:    0.0s\n",
            "[Parallel(n_jobs=-1)]: Done 168 tasks      | elapsed:    0.3s\n",
            "[Parallel(n_jobs=-1)]: Done 418 tasks      | elapsed:    0.8s\n",
            "[Parallel(n_jobs=-1)]: Done 768 tasks      | elapsed:    1.6s\n",
            "[Parallel(n_jobs=-1)]: Done 1218 tasks      | elapsed:    2.7s\n",
            "[Parallel(n_jobs=-1)]: Done 1768 tasks      | elapsed:    3.9s\n",
            "[Parallel(n_jobs=-1)]: Done 2418 tasks      | elapsed:    5.3s\n",
            "[Parallel(n_jobs=-1)]: Done 3168 tasks      | elapsed:    7.0s\n",
            "[Parallel(n_jobs=-1)]: Done 3944 out of 3944 | elapsed:    8.6s finished\n"
          ]
        },
        {
          "name": "stdout",
          "output_type": "stream",
          "text": [
            "69.075 --> "
          ]
        },
        {
          "name": "stderr",
          "output_type": "stream",
          "text": [
            "[Parallel(n_jobs=-1)]: Using backend ThreadingBackend with 16 concurrent workers.\n",
            "[Parallel(n_jobs=-1)]: Done  18 tasks      | elapsed:    0.0s\n",
            "[Parallel(n_jobs=-1)]: Done 168 tasks      | elapsed:    0.2s\n",
            "[Parallel(n_jobs=-1)]: Done 418 tasks      | elapsed:    0.7s\n",
            "[Parallel(n_jobs=-1)]: Done 768 tasks      | elapsed:    1.3s\n",
            "[Parallel(n_jobs=-1)]: Done 1218 tasks      | elapsed:    2.1s\n",
            "[Parallel(n_jobs=-1)]: Done 1768 tasks      | elapsed:    3.2s\n",
            "[Parallel(n_jobs=-1)]: Done 2418 tasks      | elapsed:    4.5s\n",
            "[Parallel(n_jobs=-1)]: Done 3168 tasks      | elapsed:    6.0s\n",
            "[Parallel(n_jobs=-1)]: Done 3944 out of 3944 | elapsed:    7.4s finished\n"
          ]
        },
        {
          "name": "stdout",
          "output_type": "stream",
          "text": [
            "32.286 --> "
          ]
        },
        {
          "name": "stderr",
          "output_type": "stream",
          "text": [
            "[Parallel(n_jobs=-1)]: Using backend ThreadingBackend with 16 concurrent workers.\n",
            "[Parallel(n_jobs=-1)]: Done  18 tasks      | elapsed:    0.0s\n",
            "[Parallel(n_jobs=-1)]: Done 168 tasks      | elapsed:    0.3s\n",
            "[Parallel(n_jobs=-1)]: Done 418 tasks      | elapsed:    0.8s\n",
            "[Parallel(n_jobs=-1)]: Done 768 tasks      | elapsed:    1.6s\n",
            "[Parallel(n_jobs=-1)]: Done 1218 tasks      | elapsed:    2.6s\n",
            "[Parallel(n_jobs=-1)]: Done 1768 tasks      | elapsed:    3.9s\n",
            "[Parallel(n_jobs=-1)]: Done 2418 tasks      | elapsed:    5.3s\n",
            "[Parallel(n_jobs=-1)]: Done 3168 tasks      | elapsed:    7.1s\n",
            "[Parallel(n_jobs=-1)]: Done 3944 out of 3944 | elapsed:    8.8s finished\n"
          ]
        },
        {
          "name": "stdout",
          "output_type": "stream",
          "text": [
            "30.993 --> "
          ]
        },
        {
          "name": "stderr",
          "output_type": "stream",
          "text": [
            "[Parallel(n_jobs=-1)]: Using backend ThreadingBackend with 16 concurrent workers.\n",
            "[Parallel(n_jobs=-1)]: Done  18 tasks      | elapsed:    0.0s\n",
            "[Parallel(n_jobs=-1)]: Done 168 tasks      | elapsed:    0.2s\n",
            "[Parallel(n_jobs=-1)]: Done 418 tasks      | elapsed:    0.6s\n",
            "[Parallel(n_jobs=-1)]: Done 768 tasks      | elapsed:    1.1s\n",
            "[Parallel(n_jobs=-1)]: Done 1218 tasks      | elapsed:    1.9s\n",
            "[Parallel(n_jobs=-1)]: Done 1768 tasks      | elapsed:    2.7s\n",
            "[Parallel(n_jobs=-1)]: Done 2418 tasks      | elapsed:    3.9s\n",
            "[Parallel(n_jobs=-1)]: Done 3168 tasks      | elapsed:    5.2s\n",
            "[Parallel(n_jobs=-1)]: Done 3944 out of 3944 | elapsed:    6.6s finished\n"
          ]
        },
        {
          "name": "stdout",
          "output_type": "stream",
          "text": [
            "30.780 --> "
          ]
        },
        {
          "name": "stderr",
          "output_type": "stream",
          "text": [
            "[Parallel(n_jobs=-1)]: Using backend ThreadingBackend with 16 concurrent workers.\n",
            "[Parallel(n_jobs=-1)]: Done  18 tasks      | elapsed:    0.0s\n",
            "[Parallel(n_jobs=-1)]: Done 168 tasks      | elapsed:    0.2s\n",
            "[Parallel(n_jobs=-1)]: Done 418 tasks      | elapsed:    0.7s\n",
            "[Parallel(n_jobs=-1)]: Done 768 tasks      | elapsed:    1.4s\n",
            "[Parallel(n_jobs=-1)]: Done 1218 tasks      | elapsed:    2.2s\n",
            "[Parallel(n_jobs=-1)]: Done 1768 tasks      | elapsed:    3.3s\n",
            "[Parallel(n_jobs=-1)]: Done 2418 tasks      | elapsed:    4.5s\n",
            "[Parallel(n_jobs=-1)]: Done 3168 tasks      | elapsed:    5.9s\n",
            "[Parallel(n_jobs=-1)]: Done 3944 out of 3944 | elapsed:    7.2s finished\n"
          ]
        },
        {
          "name": "stdout",
          "output_type": "stream",
          "text": [
            "30.663 --> "
          ]
        },
        {
          "name": "stderr",
          "output_type": "stream",
          "text": [
            "[Parallel(n_jobs=-1)]: Using backend ThreadingBackend with 16 concurrent workers.\n",
            "[Parallel(n_jobs=-1)]: Done  18 tasks      | elapsed:    0.0s\n",
            "[Parallel(n_jobs=-1)]: Done 168 tasks      | elapsed:    0.2s\n",
            "[Parallel(n_jobs=-1)]: Done 418 tasks      | elapsed:    0.6s\n",
            "[Parallel(n_jobs=-1)]: Done 768 tasks      | elapsed:    1.2s\n",
            "[Parallel(n_jobs=-1)]: Done 1218 tasks      | elapsed:    2.0s\n",
            "[Parallel(n_jobs=-1)]: Done 1768 tasks      | elapsed:    3.1s\n",
            "[Parallel(n_jobs=-1)]: Done 2418 tasks      | elapsed:    4.2s\n",
            "[Parallel(n_jobs=-1)]: Done 3168 tasks      | elapsed:    5.5s\n",
            "[Parallel(n_jobs=-1)]: Done 3944 out of 3944 | elapsed:    6.9s finished\n"
          ]
        },
        {
          "name": "stdout",
          "output_type": "stream",
          "text": [
            "30.614 --> "
          ]
        },
        {
          "name": "stderr",
          "output_type": "stream",
          "text": [
            "[Parallel(n_jobs=-1)]: Using backend ThreadingBackend with 16 concurrent workers.\n",
            "[Parallel(n_jobs=-1)]: Done  18 tasks      | elapsed:    0.0s\n",
            "[Parallel(n_jobs=-1)]: Done 168 tasks      | elapsed:    0.2s\n",
            "[Parallel(n_jobs=-1)]: Done 418 tasks      | elapsed:    0.6s\n",
            "[Parallel(n_jobs=-1)]: Done 768 tasks      | elapsed:    1.2s\n",
            "[Parallel(n_jobs=-1)]: Done 1218 tasks      | elapsed:    2.1s\n",
            "[Parallel(n_jobs=-1)]: Done 1768 tasks      | elapsed:    3.2s\n",
            "[Parallel(n_jobs=-1)]: Done 2418 tasks      | elapsed:    4.6s\n",
            "[Parallel(n_jobs=-1)]: Done 3168 tasks      | elapsed:    6.2s\n",
            "[Parallel(n_jobs=-1)]: Done 3944 out of 3944 | elapsed:    7.9s finished\n"
          ]
        },
        {
          "name": "stdout",
          "output_type": "stream",
          "text": [
            "30.614 --> \n",
            "Init 2\n"
          ]
        },
        {
          "name": "stderr",
          "output_type": "stream",
          "text": [
            "[Parallel(n_jobs=-1)]: Using backend ThreadingBackend with 16 concurrent workers.\n",
            "[Parallel(n_jobs=-1)]: Done  18 tasks      | elapsed:    0.0s\n",
            "[Parallel(n_jobs=-1)]: Done 168 tasks      | elapsed:    0.2s\n",
            "[Parallel(n_jobs=-1)]: Done 418 tasks      | elapsed:    0.5s\n",
            "[Parallel(n_jobs=-1)]: Done 493 out of 493 | elapsed:    0.7s finished\n",
            "[Parallel(n_jobs=-1)]: Using backend ThreadingBackend with 16 concurrent workers.\n",
            "[Parallel(n_jobs=-1)]: Done  18 tasks      | elapsed:    0.0s\n",
            "[Parallel(n_jobs=-1)]: Done 168 tasks      | elapsed:    0.2s\n",
            "[Parallel(n_jobs=-1)]: Done 418 tasks      | elapsed:    0.5s\n",
            "[Parallel(n_jobs=-1)]: Done 768 tasks      | elapsed:    1.1s\n",
            "[Parallel(n_jobs=-1)]: Done 1218 tasks      | elapsed:    1.8s\n",
            "[Parallel(n_jobs=-1)]: Done 1768 tasks      | elapsed:    2.6s\n",
            "[Parallel(n_jobs=-1)]: Done 1972 out of 1972 | elapsed:    2.9s finished\n",
            "[Parallel(n_jobs=-1)]: Using backend ThreadingBackend with 16 concurrent workers.\n",
            "[Parallel(n_jobs=-1)]: Done  18 tasks      | elapsed:    0.0s\n",
            "[Parallel(n_jobs=-1)]: Done 168 tasks      | elapsed:    0.2s\n",
            "[Parallel(n_jobs=-1)]: Done 418 tasks      | elapsed:    0.5s\n",
            "[Parallel(n_jobs=-1)]: Done 768 tasks      | elapsed:    1.1s\n",
            "[Parallel(n_jobs=-1)]: Done 1218 tasks      | elapsed:    1.8s\n",
            "[Parallel(n_jobs=-1)]: Done 1768 tasks      | elapsed:    2.7s\n",
            "[Parallel(n_jobs=-1)]: Done 1972 out of 1972 | elapsed:    3.1s finished\n",
            "[Parallel(n_jobs=-1)]: Using backend ThreadingBackend with 16 concurrent workers.\n",
            "[Parallel(n_jobs=-1)]: Done  18 tasks      | elapsed:    0.0s\n",
            "[Parallel(n_jobs=-1)]: Done 168 tasks      | elapsed:    0.2s\n",
            "[Parallel(n_jobs=-1)]: Done 418 tasks      | elapsed:    0.6s\n",
            "[Parallel(n_jobs=-1)]: Done 768 tasks      | elapsed:    1.1s\n",
            "[Parallel(n_jobs=-1)]: Done 1218 tasks      | elapsed:    1.8s\n",
            "[Parallel(n_jobs=-1)]: Done 1768 tasks      | elapsed:    2.8s\n",
            "[Parallel(n_jobs=-1)]: Done 1972 out of 1972 | elapsed:    3.1s finished\n",
            "[Parallel(n_jobs=-1)]: Using backend ThreadingBackend with 16 concurrent workers.\n",
            "[Parallel(n_jobs=-1)]: Done  18 tasks      | elapsed:    0.0s\n",
            "[Parallel(n_jobs=-1)]: Done 168 tasks      | elapsed:    0.2s\n",
            "[Parallel(n_jobs=-1)]: Done 418 tasks      | elapsed:    0.7s\n",
            "[Parallel(n_jobs=-1)]: Done 768 tasks      | elapsed:    1.3s\n",
            "[Parallel(n_jobs=-1)]: Done 1218 tasks      | elapsed:    2.0s\n",
            "[Parallel(n_jobs=-1)]: Done 1768 tasks      | elapsed:    3.0s\n",
            "[Parallel(n_jobs=-1)]: Done 1972 out of 1972 | elapsed:    3.4s finished\n",
            "[Parallel(n_jobs=-1)]: Using backend ThreadingBackend with 16 concurrent workers.\n",
            "[Parallel(n_jobs=-1)]: Done  18 tasks      | elapsed:    0.0s\n",
            "[Parallel(n_jobs=-1)]: Done 168 tasks      | elapsed:    0.2s\n",
            "[Parallel(n_jobs=-1)]: Done 418 tasks      | elapsed:    0.6s\n",
            "[Parallel(n_jobs=-1)]: Done 768 tasks      | elapsed:    1.3s\n",
            "[Parallel(n_jobs=-1)]: Done 1218 tasks      | elapsed:    2.1s\n",
            "[Parallel(n_jobs=-1)]: Done 1768 tasks      | elapsed:    3.0s\n",
            "[Parallel(n_jobs=-1)]: Done 1972 out of 1972 | elapsed:    3.4s finished\n",
            "[Parallel(n_jobs=-1)]: Using backend ThreadingBackend with 16 concurrent workers.\n",
            "[Parallel(n_jobs=-1)]: Done  18 tasks      | elapsed:    0.0s\n",
            "[Parallel(n_jobs=-1)]: Done 168 tasks      | elapsed:    0.2s\n",
            "[Parallel(n_jobs=-1)]: Done 418 tasks      | elapsed:    0.7s\n",
            "[Parallel(n_jobs=-1)]: Done 768 tasks      | elapsed:    1.3s\n",
            "[Parallel(n_jobs=-1)]: Done 1218 tasks      | elapsed:    2.1s\n",
            "[Parallel(n_jobs=-1)]: Done 1768 tasks      | elapsed:    3.1s\n",
            "[Parallel(n_jobs=-1)]: Done 1972 out of 1972 | elapsed:    3.4s finished\n",
            "[Parallel(n_jobs=-1)]: Using backend ThreadingBackend with 16 concurrent workers.\n",
            "[Parallel(n_jobs=-1)]: Done  18 tasks      | elapsed:    0.0s\n",
            "[Parallel(n_jobs=-1)]: Done 168 tasks      | elapsed:    0.2s\n",
            "[Parallel(n_jobs=-1)]: Done 418 tasks      | elapsed:    0.7s\n",
            "[Parallel(n_jobs=-1)]: Done 768 tasks      | elapsed:    1.3s\n",
            "[Parallel(n_jobs=-1)]: Done 1218 tasks      | elapsed:    2.1s\n",
            "[Parallel(n_jobs=-1)]: Done 1768 tasks      | elapsed:    3.0s\n",
            "[Parallel(n_jobs=-1)]: Done 1972 out of 1972 | elapsed:    3.4s finished\n",
            "[Parallel(n_jobs=-1)]: Using backend ThreadingBackend with 16 concurrent workers.\n",
            "[Parallel(n_jobs=-1)]: Done  18 tasks      | elapsed:    0.0s\n",
            "[Parallel(n_jobs=-1)]: Done 168 tasks      | elapsed:    0.2s\n",
            "[Parallel(n_jobs=-1)]: Done 418 tasks      | elapsed:    0.6s\n",
            "[Parallel(n_jobs=-1)]: Done 768 tasks      | elapsed:    1.3s\n",
            "[Parallel(n_jobs=-1)]: Done 1218 tasks      | elapsed:    2.1s\n",
            "[Parallel(n_jobs=-1)]: Done 1768 tasks      | elapsed:    3.0s\n",
            "[Parallel(n_jobs=-1)]: Done 2418 tasks      | elapsed:    4.2s\n",
            "[Parallel(n_jobs=-1)]: Done 3168 tasks      | elapsed:    5.6s\n",
            "[Parallel(n_jobs=-1)]: Done 3944 out of 3944 | elapsed:    6.9s finished\n"
          ]
        },
        {
          "name": "stdout",
          "output_type": "stream",
          "text": [
            "71.639 --> "
          ]
        },
        {
          "name": "stderr",
          "output_type": "stream",
          "text": [
            "[Parallel(n_jobs=-1)]: Using backend ThreadingBackend with 16 concurrent workers.\n",
            "[Parallel(n_jobs=-1)]: Done  18 tasks      | elapsed:    0.0s\n",
            "[Parallel(n_jobs=-1)]: Done 168 tasks      | elapsed:    0.2s\n",
            "[Parallel(n_jobs=-1)]: Done 418 tasks      | elapsed:    0.7s\n",
            "[Parallel(n_jobs=-1)]: Done 768 tasks      | elapsed:    1.3s\n",
            "[Parallel(n_jobs=-1)]: Done 1218 tasks      | elapsed:    2.1s\n",
            "[Parallel(n_jobs=-1)]: Done 1768 tasks      | elapsed:    3.0s\n",
            "[Parallel(n_jobs=-1)]: Done 2418 tasks      | elapsed:    4.2s\n",
            "[Parallel(n_jobs=-1)]: Done 3168 tasks      | elapsed:    5.5s\n",
            "[Parallel(n_jobs=-1)]: Done 3944 out of 3944 | elapsed:    6.9s finished\n"
          ]
        },
        {
          "name": "stdout",
          "output_type": "stream",
          "text": [
            "32.154 --> "
          ]
        },
        {
          "name": "stderr",
          "output_type": "stream",
          "text": [
            "[Parallel(n_jobs=-1)]: Using backend ThreadingBackend with 16 concurrent workers.\n",
            "[Parallel(n_jobs=-1)]: Done  18 tasks      | elapsed:    0.0s\n",
            "[Parallel(n_jobs=-1)]: Done 168 tasks      | elapsed:    0.2s\n",
            "[Parallel(n_jobs=-1)]: Done 418 tasks      | elapsed:    0.6s\n",
            "[Parallel(n_jobs=-1)]: Done 768 tasks      | elapsed:    1.3s\n",
            "[Parallel(n_jobs=-1)]: Done 1218 tasks      | elapsed:    2.0s\n",
            "[Parallel(n_jobs=-1)]: Done 1768 tasks      | elapsed:    3.0s\n",
            "[Parallel(n_jobs=-1)]: Done 2418 tasks      | elapsed:    4.1s\n",
            "[Parallel(n_jobs=-1)]: Done 3168 tasks      | elapsed:    5.4s\n",
            "[Parallel(n_jobs=-1)]: Done 3944 out of 3944 | elapsed:    6.7s finished\n"
          ]
        },
        {
          "name": "stdout",
          "output_type": "stream",
          "text": [
            "31.027 --> "
          ]
        },
        {
          "name": "stderr",
          "output_type": "stream",
          "text": [
            "[Parallel(n_jobs=-1)]: Using backend ThreadingBackend with 16 concurrent workers.\n",
            "[Parallel(n_jobs=-1)]: Done  18 tasks      | elapsed:    0.0s\n",
            "[Parallel(n_jobs=-1)]: Done 168 tasks      | elapsed:    0.3s\n",
            "[Parallel(n_jobs=-1)]: Done 418 tasks      | elapsed:    0.8s\n",
            "[Parallel(n_jobs=-1)]: Done 768 tasks      | elapsed:    1.4s\n",
            "[Parallel(n_jobs=-1)]: Done 1218 tasks      | elapsed:    2.3s\n",
            "[Parallel(n_jobs=-1)]: Done 1768 tasks      | elapsed:    3.4s\n",
            "[Parallel(n_jobs=-1)]: Done 2418 tasks      | elapsed:    4.7s\n",
            "[Parallel(n_jobs=-1)]: Done 3168 tasks      | elapsed:    6.2s\n",
            "[Parallel(n_jobs=-1)]: Done 3944 out of 3944 | elapsed:    7.7s finished\n"
          ]
        },
        {
          "name": "stdout",
          "output_type": "stream",
          "text": [
            "30.838 --> "
          ]
        },
        {
          "name": "stderr",
          "output_type": "stream",
          "text": [
            "[Parallel(n_jobs=-1)]: Using backend ThreadingBackend with 16 concurrent workers.\n",
            "[Parallel(n_jobs=-1)]: Done  18 tasks      | elapsed:    0.0s\n",
            "[Parallel(n_jobs=-1)]: Done 168 tasks      | elapsed:    0.2s\n",
            "[Parallel(n_jobs=-1)]: Done 418 tasks      | elapsed:    0.7s\n",
            "[Parallel(n_jobs=-1)]: Done 768 tasks      | elapsed:    1.4s\n",
            "[Parallel(n_jobs=-1)]: Done 1218 tasks      | elapsed:    2.2s\n",
            "[Parallel(n_jobs=-1)]: Done 1768 tasks      | elapsed:    3.4s\n",
            "[Parallel(n_jobs=-1)]: Done 2418 tasks      | elapsed:    4.7s\n",
            "[Parallel(n_jobs=-1)]: Done 3168 tasks      | elapsed:    6.3s\n",
            "[Parallel(n_jobs=-1)]: Done 3944 out of 3944 | elapsed:    8.0s finished\n"
          ]
        },
        {
          "name": "stdout",
          "output_type": "stream",
          "text": [
            "30.787 --> "
          ]
        },
        {
          "name": "stderr",
          "output_type": "stream",
          "text": [
            "[Parallel(n_jobs=-1)]: Using backend ThreadingBackend with 16 concurrent workers.\n",
            "[Parallel(n_jobs=-1)]: Done  18 tasks      | elapsed:    0.0s\n",
            "[Parallel(n_jobs=-1)]: Done 168 tasks      | elapsed:    0.2s\n",
            "[Parallel(n_jobs=-1)]: Done 418 tasks      | elapsed:    0.6s\n",
            "[Parallel(n_jobs=-1)]: Done 768 tasks      | elapsed:    1.1s\n",
            "[Parallel(n_jobs=-1)]: Done 1218 tasks      | elapsed:    1.8s\n",
            "[Parallel(n_jobs=-1)]: Done 1768 tasks      | elapsed:    2.8s\n",
            "[Parallel(n_jobs=-1)]: Done 2418 tasks      | elapsed:    3.9s\n",
            "[Parallel(n_jobs=-1)]: Done 3168 tasks      | elapsed:    5.3s\n",
            "[Parallel(n_jobs=-1)]: Done 3944 out of 3944 | elapsed:    6.6s finished\n"
          ]
        },
        {
          "name": "stdout",
          "output_type": "stream",
          "text": [
            "30.787 --> \n"
          ]
        },
        {
          "name": "stderr",
          "output_type": "stream",
          "text": [
            "[Parallel(n_jobs=-1)]: Using backend ThreadingBackend with 16 concurrent workers.\n",
            "[Parallel(n_jobs=-1)]: Done  18 tasks      | elapsed:    0.0s\n",
            "[Parallel(n_jobs=-1)]: Done 168 tasks      | elapsed:    0.2s\n",
            "[Parallel(n_jobs=-1)]: Done 418 tasks      | elapsed:    0.6s\n",
            "[Parallel(n_jobs=-1)]: Done 768 tasks      | elapsed:    1.1s\n",
            "[Parallel(n_jobs=-1)]: Done 1218 tasks      | elapsed:    1.8s\n",
            "[Parallel(n_jobs=-1)]: Done 1768 tasks      | elapsed:    2.7s\n",
            "[Parallel(n_jobs=-1)]: Done 2418 tasks      | elapsed:    3.8s\n",
            "[Parallel(n_jobs=-1)]: Done 3168 tasks      | elapsed:    5.1s\n",
            "[Parallel(n_jobs=-1)]: Done 3944 out of 3944 | elapsed:    6.5s finished\n",
            " 50%|█████     | 1/2 [25:47<25:47, 1547.43s/it][Parallel(n_jobs=-1)]: Using backend ThreadingBackend with 16 concurrent workers.\n",
            "[Parallel(n_jobs=-1)]: Done  18 tasks      | elapsed:    0.0s\n"
          ]
        },
        {
          "name": "stdout",
          "output_type": "stream",
          "text": [
            "For k = 8, clustering done\n",
            "Init 1\n"
          ]
        },
        {
          "name": "stderr",
          "output_type": "stream",
          "text": [
            "[Parallel(n_jobs=-1)]: Done 168 tasks      | elapsed:    0.2s\n",
            "[Parallel(n_jobs=-1)]: Done 418 tasks      | elapsed:    0.6s\n",
            "[Parallel(n_jobs=-1)]: Done 493 out of 493 | elapsed:    0.7s finished\n",
            "[Parallel(n_jobs=-1)]: Using backend ThreadingBackend with 16 concurrent workers.\n",
            "[Parallel(n_jobs=-1)]: Done  18 tasks      | elapsed:    0.0s\n",
            "[Parallel(n_jobs=-1)]: Done 168 tasks      | elapsed:    0.2s\n",
            "[Parallel(n_jobs=-1)]: Done 418 tasks      | elapsed:    0.6s\n",
            "[Parallel(n_jobs=-1)]: Done 768 tasks      | elapsed:    1.3s\n",
            "[Parallel(n_jobs=-1)]: Done 1218 tasks      | elapsed:    2.1s\n",
            "[Parallel(n_jobs=-1)]: Done 1768 tasks      | elapsed:    3.0s\n",
            "[Parallel(n_jobs=-1)]: Done 1972 out of 1972 | elapsed:    3.4s finished\n",
            "[Parallel(n_jobs=-1)]: Using backend ThreadingBackend with 16 concurrent workers.\n",
            "[Parallel(n_jobs=-1)]: Done  18 tasks      | elapsed:    0.0s\n",
            "[Parallel(n_jobs=-1)]: Done 168 tasks      | elapsed:    0.2s\n",
            "[Parallel(n_jobs=-1)]: Done 418 tasks      | elapsed:    0.7s\n",
            "[Parallel(n_jobs=-1)]: Done 768 tasks      | elapsed:    1.3s\n",
            "[Parallel(n_jobs=-1)]: Done 1218 tasks      | elapsed:    2.1s\n",
            "[Parallel(n_jobs=-1)]: Done 1768 tasks      | elapsed:    3.2s\n",
            "[Parallel(n_jobs=-1)]: Done 1972 out of 1972 | elapsed:    3.5s finished\n",
            "[Parallel(n_jobs=-1)]: Using backend ThreadingBackend with 16 concurrent workers.\n",
            "[Parallel(n_jobs=-1)]: Done  18 tasks      | elapsed:    0.0s\n",
            "[Parallel(n_jobs=-1)]: Done 168 tasks      | elapsed:    0.2s\n",
            "[Parallel(n_jobs=-1)]: Done 418 tasks      | elapsed:    0.7s\n",
            "[Parallel(n_jobs=-1)]: Done 768 tasks      | elapsed:    1.3s\n",
            "[Parallel(n_jobs=-1)]: Done 1218 tasks      | elapsed:    2.1s\n",
            "[Parallel(n_jobs=-1)]: Done 1768 tasks      | elapsed:    3.1s\n",
            "[Parallel(n_jobs=-1)]: Done 1972 out of 1972 | elapsed:    3.5s finished\n",
            "[Parallel(n_jobs=-1)]: Using backend ThreadingBackend with 16 concurrent workers.\n",
            "[Parallel(n_jobs=-1)]: Done  18 tasks      | elapsed:    0.0s\n",
            "[Parallel(n_jobs=-1)]: Done 168 tasks      | elapsed:    0.2s\n",
            "[Parallel(n_jobs=-1)]: Done 418 tasks      | elapsed:    0.7s\n",
            "[Parallel(n_jobs=-1)]: Done 768 tasks      | elapsed:    1.3s\n",
            "[Parallel(n_jobs=-1)]: Done 1218 tasks      | elapsed:    2.1s\n",
            "[Parallel(n_jobs=-1)]: Done 1768 tasks      | elapsed:    3.1s\n",
            "[Parallel(n_jobs=-1)]: Done 1972 out of 1972 | elapsed:    3.4s finished\n",
            "[Parallel(n_jobs=-1)]: Using backend ThreadingBackend with 16 concurrent workers.\n",
            "[Parallel(n_jobs=-1)]: Done  18 tasks      | elapsed:    0.0s\n",
            "[Parallel(n_jobs=-1)]: Done 168 tasks      | elapsed:    0.2s\n",
            "[Parallel(n_jobs=-1)]: Done 418 tasks      | elapsed:    0.6s\n",
            "[Parallel(n_jobs=-1)]: Done 768 tasks      | elapsed:    1.3s\n",
            "[Parallel(n_jobs=-1)]: Done 1218 tasks      | elapsed:    2.1s\n",
            "[Parallel(n_jobs=-1)]: Done 1768 tasks      | elapsed:    3.1s\n",
            "[Parallel(n_jobs=-1)]: Done 1972 out of 1972 | elapsed:    3.5s finished\n",
            "[Parallel(n_jobs=-1)]: Using backend ThreadingBackend with 16 concurrent workers.\n",
            "[Parallel(n_jobs=-1)]: Done  18 tasks      | elapsed:    0.0s\n",
            "[Parallel(n_jobs=-1)]: Done 168 tasks      | elapsed:    0.2s\n",
            "[Parallel(n_jobs=-1)]: Done 418 tasks      | elapsed:    0.7s\n",
            "[Parallel(n_jobs=-1)]: Done 768 tasks      | elapsed:    1.3s\n",
            "[Parallel(n_jobs=-1)]: Done 1218 tasks      | elapsed:    2.1s\n",
            "[Parallel(n_jobs=-1)]: Done 1768 tasks      | elapsed:    3.1s\n",
            "[Parallel(n_jobs=-1)]: Done 1972 out of 1972 | elapsed:    3.5s finished\n",
            "[Parallel(n_jobs=-1)]: Using backend ThreadingBackend with 16 concurrent workers.\n",
            "[Parallel(n_jobs=-1)]: Done  18 tasks      | elapsed:    0.0s\n",
            "[Parallel(n_jobs=-1)]: Done 168 tasks      | elapsed:    0.2s\n",
            "[Parallel(n_jobs=-1)]: Done 418 tasks      | elapsed:    0.7s\n",
            "[Parallel(n_jobs=-1)]: Done 768 tasks      | elapsed:    1.3s\n",
            "[Parallel(n_jobs=-1)]: Done 1218 tasks      | elapsed:    2.1s\n",
            "[Parallel(n_jobs=-1)]: Done 1768 tasks      | elapsed:    3.1s\n",
            "[Parallel(n_jobs=-1)]: Done 1972 out of 1972 | elapsed:    3.5s finished\n",
            "[Parallel(n_jobs=-1)]: Using backend ThreadingBackend with 16 concurrent workers.\n",
            "[Parallel(n_jobs=-1)]: Done  18 tasks      | elapsed:    0.0s\n",
            "[Parallel(n_jobs=-1)]: Done 168 tasks      | elapsed:    0.2s\n",
            "[Parallel(n_jobs=-1)]: Done 418 tasks      | elapsed:    0.7s\n",
            "[Parallel(n_jobs=-1)]: Done 768 tasks      | elapsed:    1.3s\n",
            "[Parallel(n_jobs=-1)]: Done 1218 tasks      | elapsed:    2.2s\n",
            "[Parallel(n_jobs=-1)]: Done 1768 tasks      | elapsed:    3.2s\n",
            "[Parallel(n_jobs=-1)]: Done 1972 out of 1972 | elapsed:    3.5s finished\n",
            "[Parallel(n_jobs=-1)]: Using backend ThreadingBackend with 16 concurrent workers.\n",
            "[Parallel(n_jobs=-1)]: Done  18 tasks      | elapsed:    0.0s\n",
            "[Parallel(n_jobs=-1)]: Done 168 tasks      | elapsed:    0.2s\n",
            "[Parallel(n_jobs=-1)]: Done 418 tasks      | elapsed:    0.7s\n",
            "[Parallel(n_jobs=-1)]: Done 768 tasks      | elapsed:    1.3s\n",
            "[Parallel(n_jobs=-1)]: Done 1218 tasks      | elapsed:    2.1s\n",
            "[Parallel(n_jobs=-1)]: Done 1768 tasks      | elapsed:    3.1s\n",
            "[Parallel(n_jobs=-1)]: Done 2418 tasks      | elapsed:    4.3s\n",
            "[Parallel(n_jobs=-1)]: Done 3168 tasks      | elapsed:    5.6s\n",
            "[Parallel(n_jobs=-1)]: Done 4018 tasks      | elapsed:    7.1s\n",
            "[Parallel(n_jobs=-1)]: Done 4437 out of 4437 | elapsed:    7.8s finished\n"
          ]
        },
        {
          "name": "stdout",
          "output_type": "stream",
          "text": [
            "67.414 --> "
          ]
        },
        {
          "name": "stderr",
          "output_type": "stream",
          "text": [
            "[Parallel(n_jobs=-1)]: Using backend ThreadingBackend with 16 concurrent workers.\n",
            "[Parallel(n_jobs=-1)]: Done  18 tasks      | elapsed:    0.0s\n",
            "[Parallel(n_jobs=-1)]: Done 168 tasks      | elapsed:    0.2s\n",
            "[Parallel(n_jobs=-1)]: Done 418 tasks      | elapsed:    0.6s\n",
            "[Parallel(n_jobs=-1)]: Done 768 tasks      | elapsed:    1.1s\n",
            "[Parallel(n_jobs=-1)]: Done 1218 tasks      | elapsed:    1.8s\n",
            "[Parallel(n_jobs=-1)]: Done 1768 tasks      | elapsed:    2.6s\n",
            "[Parallel(n_jobs=-1)]: Done 2418 tasks      | elapsed:    3.8s\n",
            "[Parallel(n_jobs=-1)]: Done 3168 tasks      | elapsed:    5.0s\n",
            "[Parallel(n_jobs=-1)]: Done 4018 tasks      | elapsed:    6.5s\n",
            "[Parallel(n_jobs=-1)]: Done 4437 out of 4437 | elapsed:    7.2s finished\n"
          ]
        },
        {
          "name": "stdout",
          "output_type": "stream",
          "text": [
            "31.291 --> "
          ]
        },
        {
          "name": "stderr",
          "output_type": "stream",
          "text": [
            "[Parallel(n_jobs=-1)]: Using backend ThreadingBackend with 16 concurrent workers.\n",
            "[Parallel(n_jobs=-1)]: Done  18 tasks      | elapsed:    0.0s\n",
            "[Parallel(n_jobs=-1)]: Done 168 tasks      | elapsed:    0.2s\n",
            "[Parallel(n_jobs=-1)]: Done 418 tasks      | elapsed:    0.6s\n",
            "[Parallel(n_jobs=-1)]: Done 768 tasks      | elapsed:    1.2s\n",
            "[Parallel(n_jobs=-1)]: Done 1218 tasks      | elapsed:    2.0s\n",
            "[Parallel(n_jobs=-1)]: Done 1768 tasks      | elapsed:    3.0s\n",
            "[Parallel(n_jobs=-1)]: Done 2418 tasks      | elapsed:    4.2s\n",
            "[Parallel(n_jobs=-1)]: Done 3168 tasks      | elapsed:    5.5s\n",
            "[Parallel(n_jobs=-1)]: Done 4018 tasks      | elapsed:    7.0s\n",
            "[Parallel(n_jobs=-1)]: Done 4437 out of 4437 | elapsed:    7.8s finished\n"
          ]
        },
        {
          "name": "stdout",
          "output_type": "stream",
          "text": [
            "30.352 --> "
          ]
        },
        {
          "name": "stderr",
          "output_type": "stream",
          "text": [
            "[Parallel(n_jobs=-1)]: Using backend ThreadingBackend with 16 concurrent workers.\n",
            "[Parallel(n_jobs=-1)]: Done  18 tasks      | elapsed:    0.0s\n",
            "[Parallel(n_jobs=-1)]: Done 168 tasks      | elapsed:    0.2s\n",
            "[Parallel(n_jobs=-1)]: Done 418 tasks      | elapsed:    0.7s\n",
            "[Parallel(n_jobs=-1)]: Done 768 tasks      | elapsed:    1.3s\n",
            "[Parallel(n_jobs=-1)]: Done 1218 tasks      | elapsed:    2.2s\n",
            "[Parallel(n_jobs=-1)]: Done 1768 tasks      | elapsed:    3.3s\n",
            "[Parallel(n_jobs=-1)]: Done 2418 tasks      | elapsed:    4.6s\n",
            "[Parallel(n_jobs=-1)]: Done 3168 tasks      | elapsed:    6.0s\n",
            "[Parallel(n_jobs=-1)]: Done 4018 tasks      | elapsed:    7.7s\n",
            "[Parallel(n_jobs=-1)]: Done 4437 out of 4437 | elapsed:    8.5s finished\n"
          ]
        },
        {
          "name": "stdout",
          "output_type": "stream",
          "text": [
            "30.238 --> "
          ]
        },
        {
          "name": "stderr",
          "output_type": "stream",
          "text": [
            "[Parallel(n_jobs=-1)]: Using backend ThreadingBackend with 16 concurrent workers.\n",
            "[Parallel(n_jobs=-1)]: Done  18 tasks      | elapsed:    0.0s\n",
            "[Parallel(n_jobs=-1)]: Done 168 tasks      | elapsed:    0.2s\n",
            "[Parallel(n_jobs=-1)]: Done 418 tasks      | elapsed:    0.6s\n",
            "[Parallel(n_jobs=-1)]: Done 768 tasks      | elapsed:    1.1s\n",
            "[Parallel(n_jobs=-1)]: Done 1218 tasks      | elapsed:    1.9s\n",
            "[Parallel(n_jobs=-1)]: Done 1768 tasks      | elapsed:    2.8s\n",
            "[Parallel(n_jobs=-1)]: Done 2418 tasks      | elapsed:    4.0s\n",
            "[Parallel(n_jobs=-1)]: Done 3168 tasks      | elapsed:    5.4s\n",
            "[Parallel(n_jobs=-1)]: Done 4018 tasks      | elapsed:    6.9s\n",
            "[Parallel(n_jobs=-1)]: Done 4437 out of 4437 | elapsed:    7.6s finished\n"
          ]
        },
        {
          "name": "stdout",
          "output_type": "stream",
          "text": [
            "30.171 --> "
          ]
        },
        {
          "name": "stderr",
          "output_type": "stream",
          "text": [
            "[Parallel(n_jobs=-1)]: Using backend ThreadingBackend with 16 concurrent workers.\n",
            "[Parallel(n_jobs=-1)]: Done  18 tasks      | elapsed:    0.0s\n",
            "[Parallel(n_jobs=-1)]: Done 168 tasks      | elapsed:    0.2s\n",
            "[Parallel(n_jobs=-1)]: Done 418 tasks      | elapsed:    0.7s\n",
            "[Parallel(n_jobs=-1)]: Done 768 tasks      | elapsed:    1.3s\n",
            "[Parallel(n_jobs=-1)]: Done 1218 tasks      | elapsed:    2.2s\n",
            "[Parallel(n_jobs=-1)]: Done 1768 tasks      | elapsed:    3.2s\n",
            "[Parallel(n_jobs=-1)]: Done 2418 tasks      | elapsed:    4.4s\n",
            "[Parallel(n_jobs=-1)]: Done 3168 tasks      | elapsed:    5.8s\n",
            "[Parallel(n_jobs=-1)]: Done 4018 tasks      | elapsed:    7.4s\n",
            "[Parallel(n_jobs=-1)]: Done 4437 out of 4437 | elapsed:    8.2s finished\n"
          ]
        },
        {
          "name": "stdout",
          "output_type": "stream",
          "text": [
            "30.144 --> "
          ]
        },
        {
          "name": "stderr",
          "output_type": "stream",
          "text": [
            "[Parallel(n_jobs=-1)]: Using backend ThreadingBackend with 16 concurrent workers.\n",
            "[Parallel(n_jobs=-1)]: Done  18 tasks      | elapsed:    0.0s\n",
            "[Parallel(n_jobs=-1)]: Done 168 tasks      | elapsed:    0.2s\n",
            "[Parallel(n_jobs=-1)]: Done 418 tasks      | elapsed:    0.7s\n",
            "[Parallel(n_jobs=-1)]: Done 768 tasks      | elapsed:    1.4s\n",
            "[Parallel(n_jobs=-1)]: Done 1218 tasks      | elapsed:    2.2s\n",
            "[Parallel(n_jobs=-1)]: Done 1768 tasks      | elapsed:    3.3s\n",
            "[Parallel(n_jobs=-1)]: Done 2418 tasks      | elapsed:    4.5s\n",
            "[Parallel(n_jobs=-1)]: Done 3168 tasks      | elapsed:    5.9s\n",
            "[Parallel(n_jobs=-1)]: Done 4018 tasks      | elapsed:    7.6s\n",
            "[Parallel(n_jobs=-1)]: Done 4437 out of 4437 | elapsed:    8.4s finished\n"
          ]
        },
        {
          "name": "stdout",
          "output_type": "stream",
          "text": [
            "30.144 --> \n",
            "Init 2\n"
          ]
        },
        {
          "name": "stderr",
          "output_type": "stream",
          "text": [
            "[Parallel(n_jobs=-1)]: Using backend ThreadingBackend with 16 concurrent workers.\n",
            "[Parallel(n_jobs=-1)]: Done  18 tasks      | elapsed:    0.0s\n",
            "[Parallel(n_jobs=-1)]: Done 168 tasks      | elapsed:    0.3s\n",
            "[Parallel(n_jobs=-1)]: Done 418 tasks      | elapsed:    0.7s\n",
            "[Parallel(n_jobs=-1)]: Done 493 out of 493 | elapsed:    0.9s finished\n",
            "[Parallel(n_jobs=-1)]: Using backend ThreadingBackend with 16 concurrent workers.\n",
            "[Parallel(n_jobs=-1)]: Done  18 tasks      | elapsed:    0.0s\n",
            "[Parallel(n_jobs=-1)]: Done 168 tasks      | elapsed:    0.2s\n",
            "[Parallel(n_jobs=-1)]: Done 418 tasks      | elapsed:    0.7s\n",
            "[Parallel(n_jobs=-1)]: Done 768 tasks      | elapsed:    1.4s\n",
            "[Parallel(n_jobs=-1)]: Done 1218 tasks      | elapsed:    2.2s\n",
            "[Parallel(n_jobs=-1)]: Done 1768 tasks      | elapsed:    3.2s\n",
            "[Parallel(n_jobs=-1)]: Done 1972 out of 1972 | elapsed:    3.6s finished\n",
            "[Parallel(n_jobs=-1)]: Using backend ThreadingBackend with 16 concurrent workers.\n",
            "[Parallel(n_jobs=-1)]: Done  18 tasks      | elapsed:    0.0s\n",
            "[Parallel(n_jobs=-1)]: Done 168 tasks      | elapsed:    0.3s\n",
            "[Parallel(n_jobs=-1)]: Done 418 tasks      | elapsed:    0.7s\n",
            "[Parallel(n_jobs=-1)]: Done 768 tasks      | elapsed:    1.4s\n",
            "[Parallel(n_jobs=-1)]: Done 1218 tasks      | elapsed:    2.3s\n",
            "[Parallel(n_jobs=-1)]: Done 1768 tasks      | elapsed:    3.3s\n",
            "[Parallel(n_jobs=-1)]: Done 1972 out of 1972 | elapsed:    3.7s finished\n",
            "[Parallel(n_jobs=-1)]: Using backend ThreadingBackend with 16 concurrent workers.\n",
            "[Parallel(n_jobs=-1)]: Done  18 tasks      | elapsed:    0.0s\n",
            "[Parallel(n_jobs=-1)]: Done 168 tasks      | elapsed:    0.3s\n",
            "[Parallel(n_jobs=-1)]: Done 418 tasks      | elapsed:    0.8s\n",
            "[Parallel(n_jobs=-1)]: Done 768 tasks      | elapsed:    1.4s\n",
            "[Parallel(n_jobs=-1)]: Done 1218 tasks      | elapsed:    2.3s\n",
            "[Parallel(n_jobs=-1)]: Done 1768 tasks      | elapsed:    3.4s\n",
            "[Parallel(n_jobs=-1)]: Done 1972 out of 1972 | elapsed:    3.8s finished\n",
            "[Parallel(n_jobs=-1)]: Using backend ThreadingBackend with 16 concurrent workers.\n",
            "[Parallel(n_jobs=-1)]: Done  18 tasks      | elapsed:    0.0s\n",
            "[Parallel(n_jobs=-1)]: Done 168 tasks      | elapsed:    0.3s\n",
            "[Parallel(n_jobs=-1)]: Done 418 tasks      | elapsed:    0.8s\n",
            "[Parallel(n_jobs=-1)]: Done 768 tasks      | elapsed:    1.5s\n",
            "[Parallel(n_jobs=-1)]: Done 1218 tasks      | elapsed:    2.4s\n",
            "[Parallel(n_jobs=-1)]: Done 1768 tasks      | elapsed:    3.7s\n",
            "[Parallel(n_jobs=-1)]: Done 1972 out of 1972 | elapsed:    4.1s finished\n",
            "[Parallel(n_jobs=-1)]: Using backend ThreadingBackend with 16 concurrent workers.\n",
            "[Parallel(n_jobs=-1)]: Done  18 tasks      | elapsed:    0.0s\n",
            "[Parallel(n_jobs=-1)]: Done 168 tasks      | elapsed:    0.3s\n",
            "[Parallel(n_jobs=-1)]: Done 418 tasks      | elapsed:    0.9s\n",
            "[Parallel(n_jobs=-1)]: Done 768 tasks      | elapsed:    1.7s\n",
            "[Parallel(n_jobs=-1)]: Done 1218 tasks      | elapsed:    2.7s\n",
            "[Parallel(n_jobs=-1)]: Done 1768 tasks      | elapsed:    3.9s\n",
            "[Parallel(n_jobs=-1)]: Done 1972 out of 1972 | elapsed:    4.4s finished\n",
            "[Parallel(n_jobs=-1)]: Using backend ThreadingBackend with 16 concurrent workers.\n",
            "[Parallel(n_jobs=-1)]: Done  18 tasks      | elapsed:    0.0s\n",
            "[Parallel(n_jobs=-1)]: Done 168 tasks      | elapsed:    0.3s\n",
            "[Parallel(n_jobs=-1)]: Done 418 tasks      | elapsed:    0.9s\n",
            "[Parallel(n_jobs=-1)]: Done 768 tasks      | elapsed:    1.7s\n",
            "[Parallel(n_jobs=-1)]: Done 1218 tasks      | elapsed:    2.7s\n",
            "[Parallel(n_jobs=-1)]: Done 1768 tasks      | elapsed:    3.9s\n",
            "[Parallel(n_jobs=-1)]: Done 1972 out of 1972 | elapsed:    4.4s finished\n",
            "[Parallel(n_jobs=-1)]: Using backend ThreadingBackend with 16 concurrent workers.\n",
            "[Parallel(n_jobs=-1)]: Done  18 tasks      | elapsed:    0.0s\n",
            "[Parallel(n_jobs=-1)]: Done 168 tasks      | elapsed:    0.3s\n",
            "[Parallel(n_jobs=-1)]: Done 418 tasks      | elapsed:    0.9s\n",
            "[Parallel(n_jobs=-1)]: Done 768 tasks      | elapsed:    1.7s\n",
            "[Parallel(n_jobs=-1)]: Done 1218 tasks      | elapsed:    2.7s\n",
            "[Parallel(n_jobs=-1)]: Done 1768 tasks      | elapsed:    3.9s\n",
            "[Parallel(n_jobs=-1)]: Done 1972 out of 1972 | elapsed:    4.4s finished\n",
            "[Parallel(n_jobs=-1)]: Using backend ThreadingBackend with 16 concurrent workers.\n",
            "[Parallel(n_jobs=-1)]: Done  18 tasks      | elapsed:    0.0s\n",
            "[Parallel(n_jobs=-1)]: Done 168 tasks      | elapsed:    0.3s\n",
            "[Parallel(n_jobs=-1)]: Done 418 tasks      | elapsed:    0.9s\n",
            "[Parallel(n_jobs=-1)]: Done 768 tasks      | elapsed:    1.6s\n",
            "[Parallel(n_jobs=-1)]: Done 1218 tasks      | elapsed:    2.6s\n",
            "[Parallel(n_jobs=-1)]: Done 1768 tasks      | elapsed:    3.9s\n",
            "[Parallel(n_jobs=-1)]: Done 1972 out of 1972 | elapsed:    4.3s finished\n",
            "[Parallel(n_jobs=-1)]: Using backend ThreadingBackend with 16 concurrent workers.\n",
            "[Parallel(n_jobs=-1)]: Done  18 tasks      | elapsed:    0.0s\n",
            "[Parallel(n_jobs=-1)]: Done 168 tasks      | elapsed:    0.3s\n",
            "[Parallel(n_jobs=-1)]: Done 418 tasks      | elapsed:    0.9s\n",
            "[Parallel(n_jobs=-1)]: Done 768 tasks      | elapsed:    1.7s\n",
            "[Parallel(n_jobs=-1)]: Done 1218 tasks      | elapsed:    2.7s\n",
            "[Parallel(n_jobs=-1)]: Done 1768 tasks      | elapsed:    3.9s\n",
            "[Parallel(n_jobs=-1)]: Done 2418 tasks      | elapsed:    5.3s\n",
            "[Parallel(n_jobs=-1)]: Done 3168 tasks      | elapsed:    7.0s\n",
            "[Parallel(n_jobs=-1)]: Done 4018 tasks      | elapsed:    8.9s\n",
            "[Parallel(n_jobs=-1)]: Done 4437 out of 4437 | elapsed:    9.8s finished\n"
          ]
        },
        {
          "name": "stdout",
          "output_type": "stream",
          "text": [
            "65.596 --> "
          ]
        },
        {
          "name": "stderr",
          "output_type": "stream",
          "text": [
            "[Parallel(n_jobs=-1)]: Using backend ThreadingBackend with 16 concurrent workers.\n",
            "[Parallel(n_jobs=-1)]: Done  18 tasks      | elapsed:    0.0s\n",
            "[Parallel(n_jobs=-1)]: Done 168 tasks      | elapsed:    0.2s\n",
            "[Parallel(n_jobs=-1)]: Done 418 tasks      | elapsed:    0.7s\n",
            "[Parallel(n_jobs=-1)]: Done 768 tasks      | elapsed:    1.3s\n",
            "[Parallel(n_jobs=-1)]: Done 1218 tasks      | elapsed:    2.2s\n",
            "[Parallel(n_jobs=-1)]: Done 1768 tasks      | elapsed:    3.1s\n",
            "[Parallel(n_jobs=-1)]: Done 2418 tasks      | elapsed:    4.3s\n",
            "[Parallel(n_jobs=-1)]: Done 3168 tasks      | elapsed:    5.7s\n",
            "[Parallel(n_jobs=-1)]: Done 4018 tasks      | elapsed:    7.3s\n",
            "[Parallel(n_jobs=-1)]: Done 4437 out of 4437 | elapsed:    8.1s finished\n"
          ]
        },
        {
          "name": "stdout",
          "output_type": "stream",
          "text": [
            "30.664 --> "
          ]
        },
        {
          "name": "stderr",
          "output_type": "stream",
          "text": [
            "[Parallel(n_jobs=-1)]: Using backend ThreadingBackend with 16 concurrent workers.\n",
            "[Parallel(n_jobs=-1)]: Done  18 tasks      | elapsed:    0.0s\n",
            "[Parallel(n_jobs=-1)]: Done 168 tasks      | elapsed:    0.2s\n",
            "[Parallel(n_jobs=-1)]: Done 418 tasks      | elapsed:    0.6s\n",
            "[Parallel(n_jobs=-1)]: Done 768 tasks      | elapsed:    1.3s\n",
            "[Parallel(n_jobs=-1)]: Done 1218 tasks      | elapsed:    2.0s\n",
            "[Parallel(n_jobs=-1)]: Done 1768 tasks      | elapsed:    3.0s\n",
            "[Parallel(n_jobs=-1)]: Done 2418 tasks      | elapsed:    4.1s\n",
            "[Parallel(n_jobs=-1)]: Done 3168 tasks      | elapsed:    5.4s\n",
            "[Parallel(n_jobs=-1)]: Done 4018 tasks      | elapsed:    6.8s\n",
            "[Parallel(n_jobs=-1)]: Done 4437 out of 4437 | elapsed:    7.6s finished\n"
          ]
        },
        {
          "name": "stdout",
          "output_type": "stream",
          "text": [
            "29.999 --> "
          ]
        },
        {
          "name": "stderr",
          "output_type": "stream",
          "text": [
            "[Parallel(n_jobs=-1)]: Using backend ThreadingBackend with 16 concurrent workers.\n",
            "[Parallel(n_jobs=-1)]: Done  18 tasks      | elapsed:    0.0s\n",
            "[Parallel(n_jobs=-1)]: Done 168 tasks      | elapsed:    0.2s\n",
            "[Parallel(n_jobs=-1)]: Done 418 tasks      | elapsed:    0.7s\n",
            "[Parallel(n_jobs=-1)]: Done 768 tasks      | elapsed:    1.4s\n",
            "[Parallel(n_jobs=-1)]: Done 1218 tasks      | elapsed:    2.3s\n",
            "[Parallel(n_jobs=-1)]: Done 1768 tasks      | elapsed:    3.3s\n",
            "[Parallel(n_jobs=-1)]: Done 2418 tasks      | elapsed:    4.5s\n",
            "[Parallel(n_jobs=-1)]: Done 3168 tasks      | elapsed:    6.0s\n",
            "[Parallel(n_jobs=-1)]: Done 4018 tasks      | elapsed:    7.7s\n",
            "[Parallel(n_jobs=-1)]: Done 4437 out of 4437 | elapsed:    8.5s finished\n"
          ]
        },
        {
          "name": "stdout",
          "output_type": "stream",
          "text": [
            "29.786 --> "
          ]
        },
        {
          "name": "stderr",
          "output_type": "stream",
          "text": [
            "[Parallel(n_jobs=-1)]: Using backend ThreadingBackend with 16 concurrent workers.\n",
            "[Parallel(n_jobs=-1)]: Done  18 tasks      | elapsed:    0.0s\n",
            "[Parallel(n_jobs=-1)]: Done 168 tasks      | elapsed:    0.2s\n",
            "[Parallel(n_jobs=-1)]: Done 418 tasks      | elapsed:    0.7s\n",
            "[Parallel(n_jobs=-1)]: Done 768 tasks      | elapsed:    1.3s\n",
            "[Parallel(n_jobs=-1)]: Done 1218 tasks      | elapsed:    2.0s\n",
            "[Parallel(n_jobs=-1)]: Done 1768 tasks      | elapsed:    3.0s\n",
            "[Parallel(n_jobs=-1)]: Done 2418 tasks      | elapsed:    4.3s\n",
            "[Parallel(n_jobs=-1)]: Done 3168 tasks      | elapsed:    5.7s\n",
            "[Parallel(n_jobs=-1)]: Done 4018 tasks      | elapsed:    7.4s\n",
            "[Parallel(n_jobs=-1)]: Done 4437 out of 4437 | elapsed:    8.2s finished\n"
          ]
        },
        {
          "name": "stdout",
          "output_type": "stream",
          "text": [
            "29.602 --> "
          ]
        },
        {
          "name": "stderr",
          "output_type": "stream",
          "text": [
            "[Parallel(n_jobs=-1)]: Using backend ThreadingBackend with 16 concurrent workers.\n",
            "[Parallel(n_jobs=-1)]: Done  18 tasks      | elapsed:    0.0s\n",
            "[Parallel(n_jobs=-1)]: Done 168 tasks      | elapsed:    0.2s\n",
            "[Parallel(n_jobs=-1)]: Done 418 tasks      | elapsed:    0.7s\n",
            "[Parallel(n_jobs=-1)]: Done 768 tasks      | elapsed:    1.3s\n",
            "[Parallel(n_jobs=-1)]: Done 1218 tasks      | elapsed:    2.1s\n",
            "[Parallel(n_jobs=-1)]: Done 1768 tasks      | elapsed:    3.2s\n",
            "[Parallel(n_jobs=-1)]: Done 2418 tasks      | elapsed:    4.4s\n",
            "[Parallel(n_jobs=-1)]: Done 3168 tasks      | elapsed:    5.8s\n",
            "[Parallel(n_jobs=-1)]: Done 4018 tasks      | elapsed:    7.5s\n",
            "[Parallel(n_jobs=-1)]: Done 4437 out of 4437 | elapsed:    8.3s finished\n"
          ]
        },
        {
          "name": "stdout",
          "output_type": "stream",
          "text": [
            "29.571 --> "
          ]
        },
        {
          "name": "stderr",
          "output_type": "stream",
          "text": [
            "[Parallel(n_jobs=-1)]: Using backend ThreadingBackend with 16 concurrent workers.\n",
            "[Parallel(n_jobs=-1)]: Done  18 tasks      | elapsed:    0.0s\n",
            "[Parallel(n_jobs=-1)]: Done 168 tasks      | elapsed:    0.2s\n",
            "[Parallel(n_jobs=-1)]: Done 418 tasks      | elapsed:    0.7s\n",
            "[Parallel(n_jobs=-1)]: Done 768 tasks      | elapsed:    1.4s\n",
            "[Parallel(n_jobs=-1)]: Done 1218 tasks      | elapsed:    2.3s\n",
            "[Parallel(n_jobs=-1)]: Done 1768 tasks      | elapsed:    3.3s\n",
            "[Parallel(n_jobs=-1)]: Done 2418 tasks      | elapsed:    4.6s\n",
            "[Parallel(n_jobs=-1)]: Done 3168 tasks      | elapsed:    6.1s\n",
            "[Parallel(n_jobs=-1)]: Done 4018 tasks      | elapsed:    7.7s\n",
            "[Parallel(n_jobs=-1)]: Done 4437 out of 4437 | elapsed:    8.5s finished\n"
          ]
        },
        {
          "name": "stdout",
          "output_type": "stream",
          "text": [
            "29.554 --> "
          ]
        },
        {
          "name": "stderr",
          "output_type": "stream",
          "text": [
            "[Parallel(n_jobs=-1)]: Using backend ThreadingBackend with 16 concurrent workers.\n",
            "[Parallel(n_jobs=-1)]: Done  18 tasks      | elapsed:    0.0s\n",
            "[Parallel(n_jobs=-1)]: Done 168 tasks      | elapsed:    0.2s\n",
            "[Parallel(n_jobs=-1)]: Done 418 tasks      | elapsed:    0.6s\n",
            "[Parallel(n_jobs=-1)]: Done 768 tasks      | elapsed:    1.3s\n",
            "[Parallel(n_jobs=-1)]: Done 1218 tasks      | elapsed:    2.1s\n",
            "[Parallel(n_jobs=-1)]: Done 1768 tasks      | elapsed:    3.0s\n",
            "[Parallel(n_jobs=-1)]: Done 2418 tasks      | elapsed:    4.1s\n",
            "[Parallel(n_jobs=-1)]: Done 3168 tasks      | elapsed:    5.4s\n",
            "[Parallel(n_jobs=-1)]: Done 4018 tasks      | elapsed:    6.9s\n",
            "[Parallel(n_jobs=-1)]: Done 4437 out of 4437 | elapsed:    7.6s finished\n"
          ]
        },
        {
          "name": "stdout",
          "output_type": "stream",
          "text": [
            "29.554 --> \n"
          ]
        },
        {
          "name": "stderr",
          "output_type": "stream",
          "text": [
            "[Parallel(n_jobs=-1)]: Using backend ThreadingBackend with 16 concurrent workers.\n",
            "[Parallel(n_jobs=-1)]: Done  18 tasks      | elapsed:    0.0s\n",
            "[Parallel(n_jobs=-1)]: Done 168 tasks      | elapsed:    0.2s\n",
            "[Parallel(n_jobs=-1)]: Done 418 tasks      | elapsed:    0.6s\n",
            "[Parallel(n_jobs=-1)]: Done 768 tasks      | elapsed:    1.3s\n",
            "[Parallel(n_jobs=-1)]: Done 1218 tasks      | elapsed:    2.0s\n",
            "[Parallel(n_jobs=-1)]: Done 1768 tasks      | elapsed:    3.0s\n",
            "[Parallel(n_jobs=-1)]: Done 2418 tasks      | elapsed:    4.1s\n",
            "[Parallel(n_jobs=-1)]: Done 3168 tasks      | elapsed:    5.4s\n",
            "[Parallel(n_jobs=-1)]: Done 4018 tasks      | elapsed:    6.8s\n",
            "[Parallel(n_jobs=-1)]: Done 4437 out of 4437 | elapsed:    7.5s finished\n",
            "100%|██████████| 2/2 [49:36<00:00, 1488.39s/it]"
          ]
        },
        {
          "name": "stdout",
          "output_type": "stream",
          "text": [
            "For k = 9, clustering done\n"
          ]
        },
        {
          "name": "stderr",
          "output_type": "stream",
          "text": [
            "\n"
          ]
        }
      ],
      "source": [
        "import pickle\n",
        "from tslearn.clustering import TimeSeriesKMeans\n",
        "from sklearn.metrics import adjusted_mutual_info_score as ami\n",
        "from tqdm import tqdm\n",
        "import matplotlib.pyplot as plt\n",
        "\n",
        "# Define the path to load the pickle file\n",
        "pickle_loading_lower = 'sp500_clustering.pickle'\n",
        "\n",
        "# Load the saved results dictionary if it exists\n",
        "try:\n",
        "    with open(pickle_loading_lower, 'rb') as handle:\n",
        "        result_dict = pickle.load(handle)\n",
        "    print(\"File successfully loaded.\")\n",
        "    \n",
        "    # Check that the loaded object is a dictionary\n",
        "    if not isinstance(result_dict, dict):\n",
        "        print(\"Warning: The loaded file is not a dictionary. Resetting result_dict.\")\n",
        "        result_dict = {}\n",
        "except FileNotFoundError:\n",
        "    result_dict = {}\n",
        "    print(\"File not found, starting from scratch.\")\n",
        "\n",
        "# Define the clustering function\n",
        "def ad_clustering(X_train, k, seed=123):\n",
        "    \"\"\"\n",
        "    Perform time series clustering using KMeans with Dynamic Time Warping (DTW) distance.\n",
        "\n",
        "    Parameters:\n",
        "    - X_train: The input time series data for clustering (shape: [n_samples, n_timestamps, n_features]).\n",
        "    - k: The number of clusters to form.\n",
        "    - seed: The random seed for initializing the KMeans algorithm (default is 123).\n",
        "\n",
        "    Returns:\n",
        "    - model: The fitted TimeSeriesKMeans model.\n",
        "    - y_pred: Cluster labels for each time series in X_train.\n",
        "    - wcss: Within-cluster sum of squares, a measure of clustering quality.\n",
        "    \"\"\"\n",
        "    model = TimeSeriesKMeans(\n",
        "        n_clusters=k,               # Number of clusters to form\n",
        "        n_init=2,                   # Number of initializations to perform (for finding the best solution)\n",
        "        metric=\"dtw\",               # Distance metric: Dynamic Time Warping\n",
        "        verbose=True,               # Print detailed information about the clustering process\n",
        "        max_iter_barycenter=10,     # Maximum number of iterations for computing the barycenter (average time series)\n",
        "        tol=1e-2,                   # Tolerance for convergence (stopping criterion)\n",
        "        random_state=seed,          # Random seed for reproducibility\n",
        "        n_jobs=-1                   # Number of parallel jobs to run (use all available CPUs)\n",
        "    )\n",
        "    y_pred = model.fit_predict(X_train)   # Perform clustering and predict cluster labels\n",
        "    wcss = model.inertia_                # Calculate the within-cluster sum of squares (WCSS)\n",
        "    return model, y_pred, wcss           # Return the model, predicted labels, and WCSS\n",
        "\n",
        "\n",
        "# Continue from the last k value\n",
        "starting_k = max(result_dict.keys()) + 1 if result_dict else 3\n",
        "\n",
        "# Use tqdm to show a progress bar\n",
        "for k in tqdm(range(starting_k, 10)):\n",
        "    model, y_pred, wcss = ad_clustering(X_train, k)\n",
        "    result_dict[k] = (model, y_pred, wcss)\n",
        "    print(f\"For k = {k}, clustering done\")\n",
        "\n",
        "    # Save the results to a pickle file after each iteration\n",
        "    with open(pickle_loading_lower, 'wb') as handle:\n",
        "        pickle.dump(result_dict, handle, protocol=pickle.HIGHEST_PROTOCOL)\n"
      ]
    },
    {
      "cell_type": "code",
      "execution_count": 29,
      "metadata": {},
      "outputs": [
        {
          "name": "stdout",
          "output_type": "stream",
          "text": [
            "Tipo de dict1: <class 'dict'>\n",
            "Tipo de dict2: <class 'dict'>\n"
          ]
        }
      ],
      "source": [
        "# import pickle\n",
        "# \n",
        "# # Cargar el primer archivo pickle\n",
        "# with open('lower_result_dict_partial.pickle', 'rb') as f:\n",
        "#     dict1 = pickle.load(f)\n",
        "# \n",
        "# # Cargar el segundo archivo pickle\n",
        "# with open('result_dict_partial.pickle', 'rb') as f:\n",
        "#     dict2 = pickle.load(f)\n",
        "# \n",
        "# # Verificar el tipo de datos cargados\n",
        "# print(f\"Tipo de dict1: {type(dict1)}\")\n",
        "# print(f\"Tipo de dict2: {type(dict2)}\")\n",
        "# \n",
        "# # Unir los diccionarios si ambos son del tipo dict\n",
        "# if isinstance(dict1, dict) and isinstance(dict2, dict):\n",
        "#     combined_dict = dict1.copy()  # Copiar el primer diccionario\n",
        "#     combined_dict.update(dict2)   # Actualizarlo con los valores del segundo diccionario\n",
        "#     \n",
        "#     # Guardar el diccionario combinado en un nuevo archivo pickle\n",
        "#     with open('sp500_clustering.pickle', 'wb') as f:\n",
        "#         pickle.dump(combined_dict, f, protocol=pickle.HIGHEST_PROTOCOL)\n",
        "# else:\n",
        "#     print(\"Uno o ambos archivos pickle no contienen diccionarios.\")\n"
      ]
    },
    {
      "cell_type": "code",
      "execution_count": 32,
      "metadata": {},
      "outputs": [],
      "source": [
        "# with open('sp500_clustering.pickle', 'rb') as f:\n",
        "#     combined = pickle.load(f)"
      ]
    },
    {
      "cell_type": "code",
      "execution_count": 35,
      "metadata": {
        "id": "-PYGYxkgTXS0"
      },
      "outputs": [
        {
          "data": {
            "image/png": "[encoded data removed]",
            "text/plain": [
              "<Figure size 1000x600 with 1 Axes>"
            ]
          },
          "metadata": {},
          "output_type": "display_data"
        }
      ],
      "source": [
        "import matplotlib.pyplot as plt\n",
        "\n",
        "# Extract WCSS values from the results dictionary\n",
        "# WCSS: Within-cluster sum of squares, a measure of cluster compactness\n",
        "wcss_values = [result_dict[k][2] for k in sorted(result_dict.keys())]\n",
        "\n",
        "# Plot the elbow method graph\n",
        "plt.figure(figsize=(10, 6)) \n",
        "plt.plot(sorted(result_dict.keys()), wcss_values, marker='o') \n",
        "plt.title('Elbow Method For Optimal k')  \n",
        "plt.xlabel('Number of clusters (k)')  \n",
        "plt.ylabel('WCSS')  \n",
        "plt.grid(True)  \n",
        "plt.show()  \n"
      ]
    },
    {
      "cell_type": "code",
      "execution_count": 38,
      "metadata": {},
      "outputs": [
        {
          "name": "stderr",
          "output_type": "stream",
          "text": [
            "[Parallel(n_jobs=-1)]: Using backend ThreadingBackend with 16 concurrent workers.\n",
            "[Parallel(n_jobs=-1)]: Done  18 tasks      | elapsed:    0.0s\n",
            "[Parallel(n_jobs=-1)]: Done 168 tasks      | elapsed:    0.2s\n",
            "[Parallel(n_jobs=-1)]: Done 418 tasks      | elapsed:    0.5s\n",
            "[Parallel(n_jobs=-1)]: Done 768 tasks      | elapsed:    1.1s\n",
            "[Parallel(n_jobs=-1)]: Done 1218 tasks      | elapsed:    1.8s\n",
            "[Parallel(n_jobs=-1)]: Done 1768 tasks      | elapsed:    2.7s\n",
            "[Parallel(n_jobs=-1)]: Done 2418 tasks      | elapsed:    3.7s\n",
            "[Parallel(n_jobs=-1)]: Done 2958 out of 2958 | elapsed:    4.5s finished\n"
          ]
        }
      ],
      "source": [
        "# Now we will use the trained model on the entire DataFrame\n",
        "# Assume the optimal number of clusters has been determined to be 8\n",
        "optimal_k = 6\n",
        "\n",
        "# Extract the optimal model for the determined number of clusters\n",
        "model, _, _ = result_dict[optimal_k]\n",
        "\n",
        "# Transform the entire original DataFrame for prediction\n",
        "# Remove columns with NaN values\n",
        "close_prices = close_prices.dropna(axis=1)\n",
        "\n",
        "# Filter data from 2021 onwards\n",
        "close_prices_all = close_prices.loc[\"2021\":]\n",
        "\n",
        "# Scale and transform the data using TimeSeriesScalerMeanVariance\n",
        "X_all = TimeSeriesScalerMeanVariance().fit_transform(close_prices_all.T)\n",
        "\n",
        "# Predict clusters using the optimal model\n",
        "y_pred_all = model.predict(X_all)"
      ]
    },
    {
      "cell_type": "code",
      "execution_count": 39,
      "metadata": {},
      "outputs": [
        {
          "name": "stdout",
          "output_type": "stream",
          "text": [
            "<class 'pandas.core.frame.DataFrame'>\n",
            "RangeIndex: 493 entries, 0 to 492\n",
            "Data columns (total 2 columns):\n",
            " #   Column   Non-Null Count  Dtype \n",
            "---  ------   --------------  ----- \n",
            " 0   ticker   493 non-null    object\n",
            " 1   cluster  493 non-null    int64 \n",
            "dtypes: int64(1), object(1)\n",
            "memory usage: 7.8+ KB\n"
          ]
        }
      ],
      "source": [
        "# Map clustering results to tickers\n",
        "# Create a dictionary mapping tickers to their assigned clusters\n",
        "tickers_in_clustering = close_prices_all.columns\n",
        "ticker_to_cluster = {ticker: cluster for ticker, cluster in zip(tickers_in_clustering, y_pred_all)}\n",
        "\n",
        "# Get unique tickers from the original DataFrame\n",
        "unique_tickers = df['ticker'].unique()\n",
        "\n",
        "# Create a DataFrame with unique tickers and their assigned clusters\n",
        "unique_tickers_df = pd.DataFrame({\n",
        "    'ticker': unique_tickers\n",
        "})\n",
        "unique_tickers_df['cluster'] = unique_tickers_df['ticker'].map(ticker_to_cluster)\n",
        "\n",
        "unique_tickers_df.info()"
      ]
    },
    {
      "cell_type": "code",
      "execution_count": 40,
      "metadata": {},
      "outputs": [
        {
          "name": "stderr",
          "output_type": "stream",
          "text": [
            "100%|██████████| 1/1 [00:00<?, ?it/s]\n"
          ]
        }
      ],
      "source": [
        "# Save the DataFrame to BigQuery\n",
        "bigquery.save_dataframe(unique_tickers_df, project, dataset_to_save, table_to_save, if_exists='replace', schema=None)"
      ]
    }
  ],
  "metadata": {
    "colab": {
      "provenance": []
    },
    "kernelspec": {
      "display_name": "Python 3",
      "name": "python3"
    },
    "language_info": {
      "codemirror_mode": {
        "name": "ipython",
        "version": 3
      },
      "file_extension": ".py",
      "mimetype": "text/x-python",
      "name": "python",
      "nbconvert_exporter": "python",
      "pygments_lexer": "ipython3",
      "version": "3.8.19"
    }
  },
  "nbformat": 4,
  "nbformat_minor": 0
}
