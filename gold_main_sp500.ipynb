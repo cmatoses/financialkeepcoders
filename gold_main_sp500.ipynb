{
 "cells": [
  {
   "cell_type": "code",
   "execution_count": 69,
   "metadata": {},
   "outputs": [],
   "source": [
    "from datetime import datetime\n",
    "from google.cloud import bigquery\n",
    "from google.oauth2 import service_account\n",
    "from google.cloud import bigquery\n",
    "from google.cloud.exceptions import NotFound\n",
    "import pandas as pd\n",
    "import yahoo_fin.stock_info as si\n",
    "from utils.utils_bigquery import *\n",
    "from datetime import *"
   ]
  },
  {
   "cell_type": "code",
   "execution_count": 70,
   "metadata": {},
   "outputs": [],
   "source": [
    "key_path = key_path\n",
    "project = project_id\n",
    "\n",
    "# Sources\n",
    "currency_table = 'silver_currency_data'\n",
    "currency_dataset = 'silver'\n",
    "sp500_table = 'bronze_sp500_tickers'\n",
    "sp500_dataset = 'bronze'\n",
    "ticker_table = 'bronze_ticker_data'\n",
    "ticker_dataset = 'bronze'\n",
    "\n",
    "# Tables id\n",
    "table_conca_currency = f'{project}.{currency_dataset}.{currency_table}'\n",
    "table_conca_sp500 = f'{project}.{sp500_dataset}.{sp500_table}'\n",
    "table_conca_ticker = f'{project}.{ticker_dataset}.{ticker_table}'\n",
    "\n",
    "# Loading tables\n",
    "table_to_save = 'gold_main_sp500'\n",
    "dataset_to_save = 'gold'\n",
    "\n"
   ]
  },
  {
   "cell_type": "code",
   "execution_count": 71,
   "metadata": {},
   "outputs": [],
   "source": [
    "# Conectamos con Bigquery\n",
    "bigquery = BigQueryUtils(key_path)"
   ]
  },
  {
   "cell_type": "code",
   "execution_count": 72,
   "metadata": {},
   "outputs": [],
   "source": [
    "df = bigquery.run_query(\n",
    "    f\"\"\"\n",
    "    SELECT\n",
    "        ti.*,\n",
    "        cu.EURUSD,\n",
    "        cu.GBPUSD,\n",
    "        cu.USDCNY,\n",
    "        cu.JPYUSD,\n",
    "        cu.AUDUSD,\n",
    "        cu.USDCHF\n",
    "    FROM {table_conca_ticker} AS ti\n",
    "    INNER JOIN {table_conca_sp500} AS sp\n",
    "        ON sp.Symbol = ti.ticker    \n",
    "    INNER JOIN {table_conca_currency} AS cu\n",
    "        ON ti.date = cu.Date\n",
    "    \"\"\"\n",
    ")"
   ]
  },
  {
   "cell_type": "code",
   "execution_count": 73,
   "metadata": {},
   "outputs": [
    {
     "name": "stdout",
     "output_type": "stream",
     "text": [
      "<class 'pandas.core.frame.DataFrame'>\n",
      "RangeIndex: 411776 entries, 0 to 411775\n",
      "Data columns (total 14 columns):\n",
      " #   Column    Non-Null Count   Dtype              \n",
      "---  ------    --------------   -----              \n",
      " 0   date      411776 non-null  datetime64[us, UTC]\n",
      " 1   open      411776 non-null  float64            \n",
      " 2   high      411776 non-null  float64            \n",
      " 3   low       411776 non-null  float64            \n",
      " 4   close     411776 non-null  float64            \n",
      " 5   adjclose  411776 non-null  float64            \n",
      " 6   volume    411776 non-null  Int64              \n",
      " 7   ticker    411776 non-null  object             \n",
      " 8   EURUSD    411776 non-null  float64            \n",
      " 9   GBPUSD    411776 non-null  float64            \n",
      " 10  USDCNY    411604 non-null  float64            \n",
      " 11  JPYUSD    411776 non-null  float64            \n",
      " 12  AUDUSD    411776 non-null  float64            \n",
      " 13  USDCHF    411776 non-null  float64            \n",
      "dtypes: Int64(1), datetime64[us, UTC](1), float64(11), object(1)\n",
      "memory usage: 44.4+ MB\n"
     ]
    }
   ],
   "source": [
    "df.info()"
   ]
  },
  {
   "cell_type": "code",
   "execution_count": 74,
   "metadata": {},
   "outputs": [
    {
     "name": "stdout",
     "output_type": "stream",
     "text": [
      "<class 'pandas.core.frame.DataFrame'>\n",
      "Index: 411776 entries, 0 to 308050\n",
      "Data columns (total 14 columns):\n",
      " #   Column    Non-Null Count   Dtype              \n",
      "---  ------    --------------   -----              \n",
      " 0   date      411776 non-null  datetime64[us, UTC]\n",
      " 1   open      411776 non-null  float64            \n",
      " 2   high      411776 non-null  float64            \n",
      " 3   low       411776 non-null  float64            \n",
      " 4   close     411776 non-null  float64            \n",
      " 5   adjclose  411776 non-null  float64            \n",
      " 6   volume    411776 non-null  Int64              \n",
      " 7   ticker    411776 non-null  object             \n",
      " 8   EURUSD    411776 non-null  float64            \n",
      " 9   GBPUSD    411776 non-null  float64            \n",
      " 10  USDCNY    411776 non-null  float64            \n",
      " 11  JPYUSD    411776 non-null  float64            \n",
      " 12  AUDUSD    411776 non-null  float64            \n",
      " 13  USDCHF    411776 non-null  float64            \n",
      "dtypes: Int64(1), datetime64[us, UTC](1), float64(11), object(1)\n",
      "memory usage: 47.5+ MB\n",
      "None\n"
     ]
    }
   ],
   "source": [
    "# Asegúrate de que la columna 'date' esté en formato datetime y ordena el DataFrame\n",
    "df['date'] = pd.to_datetime(df['date'])\n",
    "df = df.sort_values(by='date')\n",
    "\n",
    "# Rellenar los valores nulos en 'USDCNY' con el valor anterior\n",
    "df['USDCNY'] = df['USDCNY'].fillna(method='ffill')\n",
    "df['EURUSD'] = df['EURUSD'].fillna(method='ffill')\n",
    "df['GBPUSD'] = df['GBPUSD'].fillna(method='ffill')\n",
    "df['JPYUSD'] = df['JPYUSD'].fillna(method='ffill')\n",
    "df['AUDUSD'] = df['AUDUSD'].fillna(method='ffill')\n",
    "df['USDCHF'] = df['USDCHF'].fillna(method='ffill')\n",
    "\n",
    "\n",
    "# Verificar los resultados\n",
    "print(df.info())\n"
   ]
  },
  {
   "cell_type": "code",
   "execution_count": 75,
   "metadata": {},
   "outputs": [
    {
     "name": "stderr",
     "output_type": "stream",
     "text": [
      "100%|██████████| 1/1 [00:00<?, ?it/s]\n"
     ]
    }
   ],
   "source": [
    "# Guardamos los datos en bigquery\n",
    "bigquery.save_dataframe(df, project, dataset_to_save, table_to_save, if_exists='append', schema=None)"
   ]
  }
 ],
 "metadata": {
  "kernelspec": {
   "display_name": "financialkeepcoders",
   "language": "python",
   "name": "python3"
  },
  "language_info": {
   "codemirror_mode": {
    "name": "ipython",
    "version": 3
   },
   "file_extension": ".py",
   "mimetype": "text/x-python",
   "name": "python",
   "nbconvert_exporter": "python",
   "pygments_lexer": "ipython3",
   "version": "3.8.19"
  }
 },
 "nbformat": 4,
 "nbformat_minor": 2
}
