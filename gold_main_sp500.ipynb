{
 "cells": [
  {
   "cell_type": "code",
   "execution_count": 1,
   "metadata": {},
   "outputs": [],
   "source": [
    "from datetime import datetime\n",
    "from google.cloud import bigquery\n",
    "from google.oauth2 import service_account\n",
    "from google.cloud import bigquery\n",
    "from google.cloud.exceptions import NotFound\n",
    "import pandas as pd\n",
    "import yahoo_fin.stock_info as si\n",
    "from utils.utils_bigquery import *\n",
    "from datetime import *"
   ]
  },
  {
   "cell_type": "code",
   "execution_count": 2,
   "metadata": {},
   "outputs": [],
   "source": [
    "key_path = key_path\n",
    "project = project_id\n",
    "\n",
    "# Sources\n",
    "currency_table = 'silver_currency_data'\n",
    "currency_dataset = 'silver'\n",
    "indicators_table = 'silver_indicators'\n",
    "indicators_dataset = 'silver'\n",
    "ticker_info_table = 'silver_ticker_info'\n",
    "ticker_info_dataset = 'silver'\n",
    "macro_data_table = 'silver_fred_macro_data'\n",
    "macro_data_dataset = 'silver'\n",
    "cluster_table = 'gold_clustering_sp500'\n",
    "cluster_dataset = 'gold'\n",
    "\n",
    "# Tables id\n",
    "table_conca_currency = f'{project}.{currency_dataset}.{currency_table}'\n",
    "table_conca_indicators = f'{project}.{indicators_dataset}.{indicators_table}'\n",
    "table_conca_ticker_info = f'{project}.{ticker_info_dataset}.{ticker_info_table}'\n",
    "table_conca_macro_data = f'{project}.{macro_data_dataset}.{macro_data_table}'\n",
    "table_conca_cluster = f'{project}.{cluster_dataset}.{cluster_table}'\n",
    "\n",
    "# Loading tables\n",
    "table_to_save = 'gold_main_sp500'\n",
    "dataset_to_save = 'gold'"
   ]
  },
  {
   "cell_type": "code",
   "execution_count": 3,
   "metadata": {},
   "outputs": [],
   "source": [
    "# Conectamos con Bigquery\n",
    "bigquery = BigQueryUtils(key_path)"
   ]
  },
  {
   "cell_type": "code",
   "execution_count": 10,
   "metadata": {},
   "outputs": [
    {
     "name": "stdout",
     "output_type": "stream",
     "text": [
      "<class 'pandas.core.frame.DataFrame'>\n",
      "RangeIndex: 1183479 entries, 0 to 1183478\n",
      "Data columns (total 48 columns):\n",
      " #   Column             Non-Null Count    Dtype              \n",
      "---  ------             --------------    -----              \n",
      " 0   date               1183479 non-null  datetime64[us, UTC]\n",
      " 1   open               1183479 non-null  float64            \n",
      " 2   high               1183479 non-null  float64            \n",
      " 3   low                1183479 non-null  float64            \n",
      " 4   close              1183479 non-null  float64            \n",
      " 5   adjclose           1183479 non-null  float64            \n",
      " 6   volume             1183479 non-null  Int64              \n",
      " 7   ticker             1183479 non-null  object             \n",
      " 8   id                 1183479 non-null  object             \n",
      " 9   SMA_20             1183479 non-null  float64            \n",
      " 10  EMA_50             1183479 non-null  float64            \n",
      " 11  WILLR              1183479 non-null  float64            \n",
      " 12  ATR                1183479 non-null  float64            \n",
      " 13  ADX                1183479 non-null  float64            \n",
      " 14  CCI                1183479 non-null  float64            \n",
      " 15  OBV                1183479 non-null  float64            \n",
      " 16  RSI                1183479 non-null  float64            \n",
      " 17  CDL_DOJI           1183479 non-null  Int64              \n",
      " 18  CDL_HAMMER         1183479 non-null  Int64              \n",
      " 19  CDL_MORNING_STAR   1183479 non-null  Int64              \n",
      " 20  CDL_SHOOTING_STAR  1183479 non-null  Int64              \n",
      " 21  CDL_ENGULFING      1183479 non-null  Int64              \n",
      " 22  CDL_LONGLINE       1183479 non-null  Int64              \n",
      " 23  bb_bbh             1183479 non-null  float64            \n",
      " 24  bb_bbm             1183479 non-null  float64            \n",
      " 25  bb_bbl             1183479 non-null  float64            \n",
      " 26  daily_return       1183479 non-null  float64            \n",
      " 27  macd               1183479 non-null  float64            \n",
      " 28  macd_signal        1183479 non-null  float64            \n",
      " 29  macd_hist          1183479 non-null  float64            \n",
      " 30  stoch              1183479 non-null  float64            \n",
      " 31  stoch_d            1183479 non-null  float64            \n",
      " 32  cluster            1183479 non-null  Int64              \n",
      " 33  industry           1183479 non-null  object             \n",
      " 34  sector             1183479 non-null  object             \n",
      " 35  USDEUR             1183479 non-null  float64            \n",
      " 36  USDJPY             1183479 non-null  float64            \n",
      " 37  USDGBP             1183479 non-null  float64            \n",
      " 38  USDCHF             1183479 non-null  float64            \n",
      " 39  USDCNY             1183479 non-null  float64            \n",
      " 40  BOPGSTB            1183479 non-null  float64            \n",
      " 41  CPIAUCSL           1183479 non-null  float64            \n",
      " 42  FEDFUNDS           1183479 non-null  float64            \n",
      " 43  GDP                1183479 non-null  float64            \n",
      " 44  PPIACO             1183479 non-null  float64            \n",
      " 45  RSAFS              1183479 non-null  float64            \n",
      " 46  UMCSENT            1183479 non-null  float64            \n",
      " 47  UNRATE             1183479 non-null  float64            \n",
      "dtypes: Int64(8), datetime64[us, UTC](1), float64(35), object(4)\n",
      "memory usage: 442.4+ MB\n"
     ]
    }
   ],
   "source": [
    "df = bigquery.run_query(\n",
    "    f\"\"\"\n",
    "    SELECT\n",
    "        indi.*,\n",
    "        cl.cluster,\n",
    "        info.sector_group,\n",
    "        info.industry_group,\n",
    "        cu.USDEUR,\n",
    "        cu.USDJPY,\n",
    "        cu.USDGBP,\n",
    "        cu.USDCHF,\n",
    "        cu.USDCNY,\n",
    "        mc.BOPGSTB,\n",
    "        mc.CPIAUCSL,\n",
    "        mc.FEDFUNDS,\n",
    "        mc.GDP,\n",
    "        mc.PPIACO,\n",
    "        mc.RSAFS,\n",
    "        mc.UMCSENT,\n",
    "        mc.UNRATE\n",
    "    FROM {table_conca_indicators} AS indi\n",
    "    INNER JOIN {table_conca_ticker_info} AS info\n",
    "        ON info.ticker = indi.ticker    \n",
    "    INNER JOIN {table_conca_currency} AS cu\n",
    "        ON indi.date = cu.Date\n",
    "    INNER JOIN {table_conca_macro_data} AS mc\n",
    "        ON indi.date = mc.Date\n",
    "    INNER JOIN {table_conca_cluster} AS cl\n",
    "        ON indi.ticker = cl.ticker        \n",
    "    \"\"\"\n",
    ")\n",
    "\n",
    "df.info()"
   ]
  },
  {
   "cell_type": "code",
   "execution_count": 11,
   "metadata": {},
   "outputs": [
    {
     "data": {
      "text/plain": [
       "date                 0\n",
       "open                 0\n",
       "daily_return         0\n",
       "macd                 0\n",
       "macd_signal          0\n",
       "macd_hist            0\n",
       "stoch                0\n",
       "stoch_d              0\n",
       "cluster              0\n",
       "industry             0\n",
       "sector               0\n",
       "USDEUR               0\n",
       "USDJPY               0\n",
       "USDGBP               0\n",
       "USDCHF               0\n",
       "USDCNY               0\n",
       "BOPGSTB              0\n",
       "CPIAUCSL             0\n",
       "FEDFUNDS             0\n",
       "GDP                  0\n",
       "PPIACO               0\n",
       "RSAFS                0\n",
       "UMCSENT              0\n",
       "bb_bbl               0\n",
       "bb_bbm               0\n",
       "bb_bbh               0\n",
       "WILLR                0\n",
       "high                 0\n",
       "low                  0\n",
       "close                0\n",
       "adjclose             0\n",
       "volume               0\n",
       "ticker               0\n",
       "id                   0\n",
       "SMA_20               0\n",
       "EMA_50               0\n",
       "ATR                  0\n",
       "CDL_LONGLINE         0\n",
       "ADX                  0\n",
       "CCI                  0\n",
       "OBV                  0\n",
       "RSI                  0\n",
       "CDL_DOJI             0\n",
       "CDL_HAMMER           0\n",
       "CDL_MORNING_STAR     0\n",
       "CDL_SHOOTING_STAR    0\n",
       "CDL_ENGULFING        0\n",
       "UNRATE               0\n",
       "dtype: int64"
      ]
     },
     "execution_count": 11,
     "metadata": {},
     "output_type": "execute_result"
    }
   ],
   "source": [
    "# Calculate the number of null values per column\n",
    "nulls_by_column = df.isnull().sum()\n",
    "\n",
    "# Sort the result in descending order\n",
    "nulls_by_column_sorted = nulls_by_column.sort_values(ascending=False)\n",
    "\n",
    "nulls_by_column_sorted"
   ]
  },
  {
   "cell_type": "code",
   "execution_count": 12,
   "metadata": {},
   "outputs": [
    {
     "name": "stdout",
     "output_type": "stream",
     "text": [
      "<class 'pandas.core.frame.DataFrame'>\n",
      "RangeIndex: 1183479 entries, 0 to 1183478\n",
      "Columns: 169 entries, date to industry_Waste Management\n",
      "dtypes: Int64(8), datetime64[us, UTC](1), float64(158), object(2)\n",
      "memory usage: 1.5+ GB\n"
     ]
    }
   ],
   "source": [
    "# Convertimos las variables categoricas en dummies\n",
    "columns_to_encode = ['sector_group', 'industry_group']\n",
    "categorical_df = pd.DataFrame([], columns=[])\n",
    "\n",
    "# Aplicamos el one hot encoding\n",
    "for col in columns_to_encode:\n",
    "  new_cols_oneHot = pd.get_dummies(df[col], prefix=col)*1.0 # multiplico por 1.0 para convertir True/False a números directamente\n",
    "  categorical_df = pd.concat([categorical_df, new_cols_oneHot], axis=1)\n",
    "\n",
    "# Unimos en el mismo df\n",
    "df_final = pd.concat([df, categorical_df], axis=1, join='inner')\n",
    "\n",
    "# Eliminamos las variables categoricas que ya hemos transformado\n",
    "df_final = df_final.drop(columns=columns_to_encode)\n",
    "\n",
    "df_final.info()\n"
   ]
  },
  {
   "cell_type": "code",
   "execution_count": 18,
   "metadata": {},
   "outputs": [
    {
     "data": {
      "text/plain": [
       "macd_signal                               1183479\n",
       "EMA_50                                    1183479\n",
       "macd                                      1183479\n",
       "macd_hist                                 1183479\n",
       "ADX                                       1183479\n",
       "                                           ...   \n",
       "industry_Communication_Equipment                2\n",
       "industry_Chemicals                              2\n",
       "industry_Capital_Markets                        2\n",
       "industry_Building_Products___Equipment          2\n",
       "industry_Waste_Management                       2\n",
       "Length: 169, dtype: int64"
      ]
     },
     "execution_count": 18,
     "metadata": {},
     "output_type": "execute_result"
    }
   ],
   "source": [
    "# import pandas as pd\n",
    "# \n",
    "# def count_unique_values(df):\n",
    "#     \"\"\"\n",
    "#     Counts the number of unique values in each column of the DataFrame\n",
    "#     and sorts the results in descending order.\n",
    "# \n",
    "#     Parameters:\n",
    "#     df (pd.DataFrame): The DataFrame for which to count unique values.\n",
    "# \n",
    "#     Returns:\n",
    "#     pd.Series: A series where the index is column names and the values are \n",
    "#                the count of unique values, sorted in descending order.\n",
    "#     \"\"\"\n",
    "#     # Count unique values for each column\n",
    "#     unique_counts = df.nunique()\n",
    "#     \n",
    "#     # Sort the results in descending order\n",
    "#     sorted_unique_counts = unique_counts.sort_values(ascending=False)\n",
    "#     \n",
    "#     return sorted_unique_counts\n",
    "# \n",
    "# count_df = count_unique_values(df_final)\n",
    "# count_df\n"
   ]
  },
  {
   "cell_type": "code",
   "execution_count": 16,
   "metadata": {},
   "outputs": [],
   "source": [
    "import pandas as pd\n",
    "import re\n",
    "\n",
    "# Define a function to clean column names\n",
    "def clean_column_names(df):\n",
    "    # Replace invalid characters with an underscore\n",
    "    df.columns = [re.sub(r'[^a-zA-Z0-9_]', '_', col) for col in df.columns]\n",
    "    # Ensure column names do not exceed 300 characters\n",
    "    df.columns = [col[:300] for col in df.columns]\n",
    "    return df\n",
    "\n",
    "# Assume 'df' is your DataFrame\n",
    "df_cleaned = clean_column_names(df_final)"
   ]
  },
  {
   "cell_type": "code",
   "execution_count": 17,
   "metadata": {},
   "outputs": [
    {
     "name": "stderr",
     "output_type": "stream",
     "text": [
      "100%|██████████| 1/1 [00:00<?, ?it/s]\n"
     ]
    }
   ],
   "source": [
    "# Guardamos los datos en bigquery\n",
    "bigquery.save_dataframe(df_cleaned, project, dataset_to_save, table_to_save, if_exists='replace', schema=None)"
   ]
  }
 ],
 "metadata": {
  "kernelspec": {
   "display_name": "financialkeepcoders",
   "language": "python",
   "name": "python3"
  },
  "language_info": {
   "codemirror_mode": {
    "name": "ipython",
    "version": 3
   },
   "file_extension": ".py",
   "mimetype": "text/x-python",
   "name": "python",
   "nbconvert_exporter": "python",
   "pygments_lexer": "ipython3",
   "version": "3.8.19"
  }
 },
 "nbformat": 4,
 "nbformat_minor": 2
}
