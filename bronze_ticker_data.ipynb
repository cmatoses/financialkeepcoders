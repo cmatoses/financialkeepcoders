{
 "cells": [
  {
   "cell_type": "code",
   "execution_count": 1,
   "metadata": {},
   "outputs": [],
   "source": [
    "from datetime import datetime\n",
    "from google.cloud import bigquery\n",
    "from google.oauth2 import service_account\n",
    "from google.cloud import bigquery\n",
    "from google.cloud.exceptions import NotFound\n",
    "import pandas as pd\n",
    "import yahoo_fin.stock_info as si\n",
    "from utils.utils_bigquery import *\n",
    "from datetime import *"
   ]
  },
  {
   "cell_type": "code",
   "execution_count": 2,
   "metadata": {},
   "outputs": [],
   "source": [
    "key_path = key_path\n",
    "project = project_id\n",
    "dataset = 'bronze'\n",
    "table = 'bronze_ticker_data'\n",
    "table_conca = f'{project}.{dataset}.{table}'\n",
    "\n",
    "schema = [\n",
    "    {'name': 'Date', 'type': 'DATE'},\n",
    "    {'name': 'Ticker', 'type': 'STRING'},\n",
    "    {'name': 'Adj Close', 'type': 'INTEGER'},\n",
    "    {'name': 'Close', 'type': 'INTEGER'},\n",
    "    {'name': 'High', 'type': 'INTEGER'},\n",
    "    {'name': 'Low', 'type': 'INTEGER'},\n",
    "    {'name': 'Open', 'type': 'INTEGER'},\n",
    "    {'name': 'Volume', 'type': 'INTEGER'},\n",
    "]"
   ]
  },
  {
   "cell_type": "code",
   "execution_count": 3,
   "metadata": {},
   "outputs": [],
   "source": [
    "# Conectamos con Bigquery\n",
    "bigquery = BigQueryUtils(key_path)"
   ]
  },
  {
   "cell_type": "code",
   "execution_count": 5,
   "metadata": {},
   "outputs": [
    {
     "data": {
      "text/html": [
       "<div>\n",
       "<style scoped>\n",
       "    .dataframe tbody tr th:only-of-type {\n",
       "        vertical-align: middle;\n",
       "    }\n",
       "\n",
       "    .dataframe tbody tr th {\n",
       "        vertical-align: top;\n",
       "    }\n",
       "\n",
       "    .dataframe thead th {\n",
       "        text-align: right;\n",
       "    }\n",
       "</style>\n",
       "<table border=\"1\" class=\"dataframe\">\n",
       "  <thead>\n",
       "    <tr style=\"text-align: right;\">\n",
       "      <th></th>\n",
       "      <th>Symbol</th>\n",
       "    </tr>\n",
       "  </thead>\n",
       "  <tbody>\n",
       "    <tr>\n",
       "      <th>0</th>\n",
       "      <td>COP</td>\n",
       "    </tr>\n",
       "    <tr>\n",
       "      <th>1</th>\n",
       "      <td>EOG</td>\n",
       "    </tr>\n",
       "    <tr>\n",
       "      <th>2</th>\n",
       "      <td>OXY</td>\n",
       "    </tr>\n",
       "    <tr>\n",
       "      <th>3</th>\n",
       "      <td>HES</td>\n",
       "    </tr>\n",
       "    <tr>\n",
       "      <th>4</th>\n",
       "      <td>FANG</td>\n",
       "    </tr>\n",
       "    <tr>\n",
       "      <th>...</th>\n",
       "      <td>...</td>\n",
       "    </tr>\n",
       "    <tr>\n",
       "      <th>498</th>\n",
       "      <td>TTWO</td>\n",
       "    </tr>\n",
       "    <tr>\n",
       "      <th>499</th>\n",
       "      <td>GOOGL</td>\n",
       "    </tr>\n",
       "    <tr>\n",
       "      <th>500</th>\n",
       "      <td>GOOG</td>\n",
       "    </tr>\n",
       "    <tr>\n",
       "      <th>501</th>\n",
       "      <td>META</td>\n",
       "    </tr>\n",
       "    <tr>\n",
       "      <th>502</th>\n",
       "      <td>MTCH</td>\n",
       "    </tr>\n",
       "  </tbody>\n",
       "</table>\n",
       "<p>503 rows × 1 columns</p>\n",
       "</div>"
      ],
      "text/plain": [
       "    Symbol\n",
       "0      COP\n",
       "1      EOG\n",
       "2      OXY\n",
       "3      HES\n",
       "4     FANG\n",
       "..     ...\n",
       "498   TTWO\n",
       "499  GOOGL\n",
       "500   GOOG\n",
       "501   META\n",
       "502   MTCH\n",
       "\n",
       "[503 rows x 1 columns]"
      ]
     },
     "execution_count": 5,
     "metadata": {},
     "output_type": "execute_result"
    }
   ],
   "source": [
    "unique_tickers = bigquery.run_query(\n",
    "    f\"\"\"\n",
    "    SELECT\n",
    "        Symbol\n",
    "    FROM sara-carles-keepcoding.bronze.bronze_sp500_tickers\n",
    "    \"\"\"\n",
    ")\n",
    "unique_tickers"
   ]
  },
  {
   "cell_type": "code",
   "execution_count": 6,
   "metadata": {},
   "outputs": [],
   "source": [
    "# Asginamos una fecha inicial a cada ticker.\n",
    "# En caso de no tenerlo ya en Biquery, nos traeremos los datos desde esta fecha\n",
    "unique_tickers_initial_date = initial_date_by_ticker(unique_tickers, initial_date='2015-01-01')"
   ]
  },
  {
   "cell_type": "code",
   "execution_count": 7,
   "metadata": {},
   "outputs": [
    {
     "name": "stdout",
     "output_type": "stream",
     "text": [
      "'ticker'\n",
      "    Symbol initial_date\n",
      "0      COP   2015-01-01\n",
      "1      EOG   2015-01-01\n",
      "2      OXY   2015-01-01\n",
      "3      HES   2015-01-01\n",
      "4     FANG   2015-01-01\n",
      "..     ...          ...\n",
      "498   TTWO   2015-01-01\n",
      "499  GOOGL   2015-01-01\n",
      "500   GOOG   2015-01-01\n",
      "501   META   2015-01-01\n",
      "502   MTCH   2015-01-01\n",
      "\n",
      "[503 rows x 2 columns]\n"
     ]
    }
   ],
   "source": [
    "try:\n",
    "    max_date_by_ticker = last_date_by_ticker_saved(unique_tickers_initial_date, bigquery, table_conca)\n",
    "    print(max_date_by_ticker)\n",
    "\n",
    "except Exception as e:\n",
    "    print(e)\n",
    "    max_date_by_ticker = unique_tickers_initial_date\n",
    "    print(max_date_by_ticker)    "
   ]
  },
  {
   "cell_type": "code",
   "execution_count": null,
   "metadata": {},
   "outputs": [
    {
     "name": "stdout",
     "output_type": "stream",
     "text": [
      "Datos obtenidos para AAPL.\n",
      "Datos obtenidos para AMGN.\n",
      "Datos obtenidos para AMZN.\n",
      "Datos obtenidos para AXP.\n",
      "Datos obtenidos para BA.\n",
      "Datos obtenidos para CAT.\n",
      "Datos obtenidos para CRM.\n",
      "Datos obtenidos para CSCO.\n",
      "Datos obtenidos para CVX.\n",
      "Datos obtenidos para DIS.\n",
      "Datos obtenidos para DOW.\n",
      "Datos obtenidos para GS.\n",
      "Datos obtenidos para HD.\n",
      "Datos obtenidos para HON.\n",
      "Datos obtenidos para IBM.\n",
      "Datos obtenidos para INTC.\n",
      "Datos obtenidos para JNJ.\n",
      "Datos obtenidos para JPM.\n",
      "Datos obtenidos para KO.\n",
      "Datos obtenidos para MCD.\n",
      "Datos obtenidos para MMM.\n",
      "Datos obtenidos para MRK.\n",
      "Datos obtenidos para MSFT.\n",
      "Datos obtenidos para NKE.\n",
      "Datos obtenidos para PG.\n",
      "Datos obtenidos para TRV.\n",
      "Datos obtenidos para UNH.\n",
      "Datos obtenidos para V.\n",
      "Datos obtenidos para VZ.\n",
      "Datos obtenidos para WMT.\n"
     ]
    }
   ],
   "source": [
    "# Hacemos un incremental para traernos los últimos registros\n",
    "df = fetch_historical_data(max_date_by_ticker, start_date_col='date', interval='1d')"
   ]
  },
  {
   "cell_type": "code",
   "execution_count": null,
   "metadata": {},
   "outputs": [],
   "source": [
    "# Seleccionamos solo los resultados que aun no existen en Bigquery para no añadir duplicados\n",
    "result = process_and_save_joins(df, max_date_by_ticker, bigquery, project, dataset, table)"
   ]
  },
  {
   "cell_type": "code",
   "execution_count": 7,
   "metadata": {},
   "outputs": [
    {
     "ename": "NameError",
     "evalue": "name 'result' is not defined",
     "output_type": "error",
     "traceback": [
      "\u001b[1;31m---------------------------------------------------------------------------\u001b[0m",
      "\u001b[1;31mNameError\u001b[0m                                 Traceback (most recent call last)",
      "Cell \u001b[1;32mIn[7], line 2\u001b[0m\n\u001b[0;32m      1\u001b[0m \u001b[38;5;66;03m# Guardamos los datos en bigquery\u001b[39;00m\n\u001b[1;32m----> 2\u001b[0m bigquery\u001b[38;5;241m.\u001b[39msave_dataframe(\u001b[43mresult\u001b[49m, project, dataset, table, if_exists\u001b[38;5;241m=\u001b[39m\u001b[38;5;124m'\u001b[39m\u001b[38;5;124mappend\u001b[39m\u001b[38;5;124m'\u001b[39m, schema\u001b[38;5;241m=\u001b[39m\u001b[38;5;28;01mNone\u001b[39;00m)\n",
      "\u001b[1;31mNameError\u001b[0m: name 'result' is not defined"
     ]
    }
   ],
   "source": [
    "# Guardamos los datos en bigquery\n",
    "bigquery.save_dataframe(result, project, dataset, table, if_exists='append')"
   ]
  }
 ],
 "metadata": {
  "kernelspec": {
   "display_name": "financialkeepcoders",
   "language": "python",
   "name": "python3"
  },
  "language_info": {
   "codemirror_mode": {
    "name": "ipython",
    "version": 3
   },
   "file_extension": ".py",
   "mimetype": "text/x-python",
   "name": "python",
   "nbconvert_exporter": "python",
   "pygments_lexer": "ipython3",
   "version": "3.8.19"
  }
 },
 "nbformat": 4,
 "nbformat_minor": 2
}
