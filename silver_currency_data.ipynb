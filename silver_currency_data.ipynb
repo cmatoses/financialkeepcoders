{
  "cells": [
    {
      "cell_type": "code",
      "execution_count": 2,
      "metadata": {
        "id": "H1pQgpEFS8AQ"
      },
      "outputs": [],
      "source": [
        "from datetime import datetime\n",
        "from google.cloud import bigquery\n",
        "from google.oauth2 import service_account\n",
        "from google.cloud import bigquery\n",
        "from google.cloud.exceptions import NotFound\n",
        "import pandas as pd\n",
        "import yahoo_fin.stock_info as si\n",
        "from utils.utils_bigquery import *\n",
        "from datetime import *"
      ]
    },
    {
      "cell_type": "code",
      "execution_count": 3,
      "metadata": {
        "id": "tRkM9psbbNtj"
      },
      "outputs": [],
      "source": [
        "# Ruta credenciales de CGP\n",
        "key_path = key_path\n",
        "\n",
        "# Datos de origen de datos en Bigquery\n",
        "project = project_id\n",
        "dataset = 'bronze'\n",
        "dataset_to_save = 'silver'\n",
        "table = 'bronze_currency_data'\n",
        "table_to_save = 'silver_currency_data'\n",
        "table_conca = f'{project}.{dataset}.{table}'"
      ]
    },
    {
      "cell_type": "code",
      "execution_count": 4,
      "metadata": {
        "id": "xSvRhDOfbS1T"
      },
      "outputs": [],
      "source": [
        "# Conectamos con Bigquery\n",
        "bigquery = BigQueryUtils(key_path)"
      ]
    },
    {
      "cell_type": "code",
      "execution_count": 7,
      "metadata": {
        "id": "3H7A0uCzbkUs"
      },
      "outputs": [],
      "source": [
        "# Obtenemos los datos almacenados en Bigquery\n",
        "df = bigquery.run_query(\n",
        "    f\"\"\"\n",
        "    SELECT\n",
        "        *\n",
        "    FROM {table_conca}\n",
        "    \"\"\"\n",
        ")"
      ]
    },
    {
      "cell_type": "code",
      "execution_count": 8,
      "metadata": {
        "colab": {
          "base_uri": "https://localhost:8080/",
          "height": 206
        },
        "id": "jEoTMsPRcgn9",
        "outputId": "fc82559f-cd35-421f-ed0c-b30c6ecc8630"
      },
      "outputs": [
        {
          "data": {
            "text/html": [
              "<div>\n",
              "<style scoped>\n",
              "    .dataframe tbody tr th:only-of-type {\n",
              "        vertical-align: middle;\n",
              "    }\n",
              "\n",
              "    .dataframe tbody tr th {\n",
              "        vertical-align: top;\n",
              "    }\n",
              "\n",
              "    .dataframe thead th {\n",
              "        text-align: right;\n",
              "    }\n",
              "</style>\n",
              "<table border=\"1\" class=\"dataframe\">\n",
              "  <thead>\n",
              "    <tr style=\"text-align: right;\">\n",
              "      <th></th>\n",
              "      <th>Date</th>\n",
              "      <th>Open</th>\n",
              "      <th>High</th>\n",
              "      <th>Low</th>\n",
              "      <th>Close</th>\n",
              "      <th>Adj Close</th>\n",
              "      <th>Volume</th>\n",
              "      <th>Currency</th>\n",
              "    </tr>\n",
              "  </thead>\n",
              "  <tbody>\n",
              "    <tr>\n",
              "      <th>0</th>\n",
              "      <td>2015-01-01 00:00:00+00:00</td>\n",
              "      <td>0.82654</td>\n",
              "      <td>0.826540</td>\n",
              "      <td>0.826540</td>\n",
              "      <td>0.82654</td>\n",
              "      <td>0.82654</td>\n",
              "      <td>0</td>\n",
              "      <td>USDEUR</td>\n",
              "    </tr>\n",
              "    <tr>\n",
              "      <th>1</th>\n",
              "      <td>2015-01-02 00:00:00+00:00</td>\n",
              "      <td>0.82722</td>\n",
              "      <td>0.832584</td>\n",
              "      <td>0.827160</td>\n",
              "      <td>0.82717</td>\n",
              "      <td>0.82717</td>\n",
              "      <td>0</td>\n",
              "      <td>USDEUR</td>\n",
              "    </tr>\n",
              "    <tr>\n",
              "      <th>2</th>\n",
              "      <td>2015-01-05 00:00:00+00:00</td>\n",
              "      <td>0.83647</td>\n",
              "      <td>0.841107</td>\n",
              "      <td>0.835010</td>\n",
              "      <td>0.83707</td>\n",
              "      <td>0.83707</td>\n",
              "      <td>0</td>\n",
              "      <td>USDEUR</td>\n",
              "    </tr>\n",
              "    <tr>\n",
              "      <th>3</th>\n",
              "      <td>2015-01-06 00:00:00+00:00</td>\n",
              "      <td>0.83764</td>\n",
              "      <td>0.841260</td>\n",
              "      <td>0.835422</td>\n",
              "      <td>0.83759</td>\n",
              "      <td>0.83759</td>\n",
              "      <td>0</td>\n",
              "      <td>USDEUR</td>\n",
              "    </tr>\n",
              "    <tr>\n",
              "      <th>4</th>\n",
              "      <td>2015-01-07 00:00:00+00:00</td>\n",
              "      <td>0.84212</td>\n",
              "      <td>0.847170</td>\n",
              "      <td>0.840336</td>\n",
              "      <td>0.84208</td>\n",
              "      <td>0.84208</td>\n",
              "      <td>0</td>\n",
              "      <td>USDEUR</td>\n",
              "    </tr>\n",
              "  </tbody>\n",
              "</table>\n",
              "</div>"
            ],
            "text/plain": [
              "                       Date     Open      High       Low    Close  Adj Close  \\\n",
              "0 2015-01-01 00:00:00+00:00  0.82654  0.826540  0.826540  0.82654    0.82654   \n",
              "1 2015-01-02 00:00:00+00:00  0.82722  0.832584  0.827160  0.82717    0.82717   \n",
              "2 2015-01-05 00:00:00+00:00  0.83647  0.841107  0.835010  0.83707    0.83707   \n",
              "3 2015-01-06 00:00:00+00:00  0.83764  0.841260  0.835422  0.83759    0.83759   \n",
              "4 2015-01-07 00:00:00+00:00  0.84212  0.847170  0.840336  0.84208    0.84208   \n",
              "\n",
              "   Volume Currency  \n",
              "0       0   USDEUR  \n",
              "1       0   USDEUR  \n",
              "2       0   USDEUR  \n",
              "3       0   USDEUR  \n",
              "4       0   USDEUR  "
            ]
          },
          "execution_count": 8,
          "metadata": {},
          "output_type": "execute_result"
        }
      ],
      "source": [
        "# Mostramos primeras filas\n",
        "df.head()"
      ]
    },
    {
      "cell_type": "code",
      "execution_count": 9,
      "metadata": {},
      "outputs": [
        {
          "data": {
            "text/html": [
              "<div>\n",
              "<style scoped>\n",
              "    .dataframe tbody tr th:only-of-type {\n",
              "        vertical-align: middle;\n",
              "    }\n",
              "\n",
              "    .dataframe tbody tr th {\n",
              "        vertical-align: top;\n",
              "    }\n",
              "\n",
              "    .dataframe thead th {\n",
              "        text-align: right;\n",
              "    }\n",
              "</style>\n",
              "<table border=\"1\" class=\"dataframe\">\n",
              "  <thead>\n",
              "    <tr style=\"text-align: right;\">\n",
              "      <th>Currency</th>\n",
              "      <th>Date</th>\n",
              "      <th>USDCHF</th>\n",
              "      <th>USDCNY</th>\n",
              "      <th>USDEUR</th>\n",
              "      <th>USDGBP</th>\n",
              "      <th>USDJPY</th>\n",
              "    </tr>\n",
              "  </thead>\n",
              "  <tbody>\n",
              "    <tr>\n",
              "      <th>0</th>\n",
              "      <td>2015-01-01 00:00:00+00:00</td>\n",
              "      <td>0.99411</td>\n",
              "      <td>6.1961</td>\n",
              "      <td>0.82654</td>\n",
              "      <td>0.64181</td>\n",
              "      <td>119.672997</td>\n",
              "    </tr>\n",
              "    <tr>\n",
              "      <th>1</th>\n",
              "      <td>2015-01-02 00:00:00+00:00</td>\n",
              "      <td>0.99410</td>\n",
              "      <td>6.1961</td>\n",
              "      <td>0.82717</td>\n",
              "      <td>0.64186</td>\n",
              "      <td>119.870003</td>\n",
              "    </tr>\n",
              "    <tr>\n",
              "      <th>2</th>\n",
              "      <td>2015-01-05 00:00:00+00:00</td>\n",
              "      <td>1.00580</td>\n",
              "      <td>6.1961</td>\n",
              "      <td>0.83707</td>\n",
              "      <td>0.65424</td>\n",
              "      <td>120.433998</td>\n",
              "    </tr>\n",
              "    <tr>\n",
              "      <th>3</th>\n",
              "      <td>2015-01-06 00:00:00+00:00</td>\n",
              "      <td>1.00620</td>\n",
              "      <td>6.2084</td>\n",
              "      <td>0.83759</td>\n",
              "      <td>0.65538</td>\n",
              "      <td>119.425003</td>\n",
              "    </tr>\n",
              "    <tr>\n",
              "      <th>4</th>\n",
              "      <td>2015-01-07 00:00:00+00:00</td>\n",
              "      <td>1.01130</td>\n",
              "      <td>6.2020</td>\n",
              "      <td>0.84208</td>\n",
              "      <td>0.66059</td>\n",
              "      <td>118.672997</td>\n",
              "    </tr>\n",
              "    <tr>\n",
              "      <th>...</th>\n",
              "      <td>...</td>\n",
              "      <td>...</td>\n",
              "      <td>...</td>\n",
              "      <td>...</td>\n",
              "      <td>...</td>\n",
              "      <td>...</td>\n",
              "    </tr>\n",
              "    <tr>\n",
              "      <th>2515</th>\n",
              "      <td>2024-08-27 00:00:00+00:00</td>\n",
              "      <td>0.84710</td>\n",
              "      <td>7.1181</td>\n",
              "      <td>0.89568</td>\n",
              "      <td>0.75805</td>\n",
              "      <td>144.516006</td>\n",
              "    </tr>\n",
              "    <tr>\n",
              "      <th>2516</th>\n",
              "      <td>2024-08-28 00:00:00+00:00</td>\n",
              "      <td>0.84172</td>\n",
              "      <td>7.1231</td>\n",
              "      <td>0.89462</td>\n",
              "      <td>0.75429</td>\n",
              "      <td>143.975006</td>\n",
              "    </tr>\n",
              "    <tr>\n",
              "      <th>2517</th>\n",
              "      <td>2024-08-29 00:00:00+00:00</td>\n",
              "      <td>0.84182</td>\n",
              "      <td>7.1243</td>\n",
              "      <td>0.89888</td>\n",
              "      <td>0.75794</td>\n",
              "      <td>144.432999</td>\n",
              "    </tr>\n",
              "    <tr>\n",
              "      <th>2518</th>\n",
              "      <td>2024-08-30 00:00:00+00:00</td>\n",
              "      <td>0.84694</td>\n",
              "      <td>7.0955</td>\n",
              "      <td>0.90249</td>\n",
              "      <td>0.75952</td>\n",
              "      <td>144.889999</td>\n",
              "    </tr>\n",
              "    <tr>\n",
              "      <th>2519</th>\n",
              "      <td>2024-09-02 00:00:00+00:00</td>\n",
              "      <td>0.85050</td>\n",
              "      <td>7.0921</td>\n",
              "      <td>0.90540</td>\n",
              "      <td>0.76170</td>\n",
              "      <td>146.380997</td>\n",
              "    </tr>\n",
              "  </tbody>\n",
              "</table>\n",
              "<p>2520 rows × 6 columns</p>\n",
              "</div>"
            ],
            "text/plain": [
              "Currency                      Date   USDCHF  USDCNY   USDEUR   USDGBP  \\\n",
              "0        2015-01-01 00:00:00+00:00  0.99411  6.1961  0.82654  0.64181   \n",
              "1        2015-01-02 00:00:00+00:00  0.99410  6.1961  0.82717  0.64186   \n",
              "2        2015-01-05 00:00:00+00:00  1.00580  6.1961  0.83707  0.65424   \n",
              "3        2015-01-06 00:00:00+00:00  1.00620  6.2084  0.83759  0.65538   \n",
              "4        2015-01-07 00:00:00+00:00  1.01130  6.2020  0.84208  0.66059   \n",
              "...                            ...      ...     ...      ...      ...   \n",
              "2515     2024-08-27 00:00:00+00:00  0.84710  7.1181  0.89568  0.75805   \n",
              "2516     2024-08-28 00:00:00+00:00  0.84172  7.1231  0.89462  0.75429   \n",
              "2517     2024-08-29 00:00:00+00:00  0.84182  7.1243  0.89888  0.75794   \n",
              "2518     2024-08-30 00:00:00+00:00  0.84694  7.0955  0.90249  0.75952   \n",
              "2519     2024-09-02 00:00:00+00:00  0.85050  7.0921  0.90540  0.76170   \n",
              "\n",
              "Currency      USDJPY  \n",
              "0         119.672997  \n",
              "1         119.870003  \n",
              "2         120.433998  \n",
              "3         119.425003  \n",
              "4         118.672997  \n",
              "...              ...  \n",
              "2515      144.516006  \n",
              "2516      143.975006  \n",
              "2517      144.432999  \n",
              "2518      144.889999  \n",
              "2519      146.380997  \n",
              "\n",
              "[2520 rows x 6 columns]"
            ]
          },
          "execution_count": 9,
          "metadata": {},
          "output_type": "execute_result"
        }
      ],
      "source": [
        "# Convert 'Date' column to datetime type\n",
        "df['Date'] = pd.to_datetime(df['Date'])\n",
        "\n",
        "# Pivot the DataFrame\n",
        "df_pivot = df.pivot_table(\n",
        "    index='Date',          \n",
        "    columns='Currency',    \n",
        "    values='Close',        \n",
        "    aggfunc='first'        \n",
        ")\n",
        "\n",
        "# Reset index to make 'Date' a column again\n",
        "df_pivot = df_pivot.reset_index()\n",
        "\n",
        "df_pivot"
      ]
    },
    {
      "cell_type": "code",
      "execution_count": 13,
      "metadata": {},
      "outputs": [
        {
          "name": "stdout",
          "output_type": "stream",
          "text": [
            "Currency\n",
            "USDCNY    1\n",
            "Date      0\n",
            "USDCHF    0\n",
            "USDEUR    0\n",
            "USDGBP    0\n",
            "USDJPY    0\n",
            "dtype: int64\n"
          ]
        }
      ],
      "source": [
        "# Calculate the number of null values per column\n",
        "nulls_by_column = df_pivot.isnull().sum()\n",
        "\n",
        "# Sort the result in descending order\n",
        "nulls_by_column_sorted = nulls_by_column.sort_values(ascending=False)\n",
        "\n",
        "print(nulls_by_column_sorted)\n"
      ]
    },
    {
      "cell_type": "code",
      "execution_count": 16,
      "metadata": {},
      "outputs": [
        {
          "data": {
            "text/plain": [
              "Currency\n",
              "Date      0\n",
              "USDCHF    0\n",
              "USDCNY    0\n",
              "USDEUR    0\n",
              "USDGBP    0\n",
              "USDJPY    0\n",
              "dtype: int64"
            ]
          },
          "execution_count": 16,
          "metadata": {},
          "output_type": "execute_result"
        }
      ],
      "source": [
        "# Rellenar los valores nulos con el valor anterior\n",
        "df_pivot['USDCNY'] = df_pivot['USDCNY'].fillna(method='ffill')\n",
        "\n",
        "# Calculate the number of null values per column\n",
        "nulls_by_column = df_pivot.isnull().sum()\n",
        "\n",
        "# Sort the result in descending order\n",
        "nulls_by_column_sorted = nulls_by_column.sort_values(ascending=False)\n",
        "\n",
        "nulls_by_column_sorted"
      ]
    },
    {
      "cell_type": "code",
      "execution_count": 17,
      "metadata": {
        "colab": {
          "base_uri": "https://localhost:8080/"
        },
        "id": "wslmquq1fgZ-",
        "outputId": "3bab5c4c-0917-4857-b858-acb417c5db0b"
      },
      "outputs": [
        {
          "name": "stderr",
          "output_type": "stream",
          "text": [
            "100%|██████████| 1/1 [00:00<?, ?it/s]\n"
          ]
        }
      ],
      "source": [
        "# Guardamos los datos en bigquery\n",
        "bigquery.save_dataframe(df_pivot, project, dataset_to_save, table_to_save, if_exists='replace', schema=None)"
      ]
    }
  ],
  "metadata": {
    "colab": {
      "provenance": []
    },
    "kernelspec": {
      "display_name": "Python 3",
      "name": "python3"
    },
    "language_info": {
      "codemirror_mode": {
        "name": "ipython",
        "version": 3
      },
      "file_extension": ".py",
      "mimetype": "text/x-python",
      "name": "python",
      "nbconvert_exporter": "python",
      "pygments_lexer": "ipython3",
      "version": "3.8.19"
    }
  },
  "nbformat": 4,
  "nbformat_minor": 0
}
